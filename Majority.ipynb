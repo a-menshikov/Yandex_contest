{
 "cells": [
  {
   "attachments": {},
   "cell_type": "markdown",
   "metadata": {},
   "source": [
    "Majority\n",
    "\n",
    "Ограничение времени\t1 секунда  \n",
    "Ограничение памяти\t64Mb  \n",
    "\n",
    "Ввод\tстандартный ввод или input.txt  \n",
    "Вывод\tстандартный вывод или output.txt  \n",
    "\n",
    "Majority (в дословном переводе \"большинство\") — это значение элемента, который в массиве длиной n встречается более чем n / 2 раз. Определите majority массива, если гарантируется, что такой элемент существует.\n",
    "\n",
    "Формат ввода  \n",
    "В первой строке вводится число n (1 ≤ n ≤ 5 × 104).  \n",
    "Во второй строке вводится n чисел через пробел, числа не превосходят 109 по модулю.\n",
    "\n",
    "Формат вывода  \n",
    "Выведите majority массива."
   ]
  },
  {
   "cell_type": "code",
   "execution_count": null,
   "metadata": {},
   "outputs": [],
   "source": [
    "N = int(input())\n",
    "input_values = list(map(int, input().split()))\n",
    "\n",
    "def majority(N, input_values):\n",
    "    K = N // 2\n",
    "    counter = {}\n",
    "    for i in input_values:\n",
    "        counter[i] = counter.get(i, 0) + 1\n",
    "        if counter[i] > K:\n",
    "            return i\n",
    "\n",
    "print(majority(N, input_values))"
   ]
  }
 ],
 "metadata": {
  "language_info": {
   "name": "python"
  },
  "orig_nbformat": 4
 },
 "nbformat": 4,
 "nbformat_minor": 2
}
