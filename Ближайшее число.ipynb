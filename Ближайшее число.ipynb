{
 "cells": [
  {
   "attachments": {},
   "cell_type": "markdown",
   "metadata": {},
   "source": [
    "Ограничение времени\t1 секунда  \n",
    "Ограничение памяти\t64Mb  \n",
    "\n",
    "Ввод\tстандартный ввод или input.txt  \n",
    "Вывод\tстандартный вывод или output.txt  \n",
    "\n",
    "Напишите программу, которая находит в массиве элемент, самый близкий по величине к  данному числу.\n",
    "\n",
    "Формат ввода  \n",
    "В первой строке задается одно натуральное число N, не превосходящее 1000 – размер массива. Во второй строке содержатся N чисел – элементы массива (целые числа, не превосходящие по модулю 1000). В третьей строке вводится одно целое число x, не превосходящее по модулю 1000.\n",
    "\n",
    "Формат вывода  \n",
    "Вывести значение элемента массива, ближайшее к x. Если таких чисел несколько, выведите любое из них."
   ]
  },
  {
   "cell_type": "code",
   "execution_count": null,
   "metadata": {},
   "outputs": [],
   "source": [
    "K = int(input())\n",
    "check_list = map(int, input().split())\n",
    "N = int(input())\n",
    "\n",
    "def check(arr, N):\n",
    "    closer = None\n",
    "    diff = 2001\n",
    "    for i in arr:\n",
    "        if i == N:\n",
    "            return N\n",
    "        if i == closer:\n",
    "            continue\n",
    "        if abs(N - i) < diff:\n",
    "            diff = abs(N - i)\n",
    "            closer = i\n",
    "    return closer\n",
    "\n",
    "print(check(check_list, N))"
   ]
  }
 ],
 "metadata": {
  "kernelspec": {
   "display_name": "Python 3",
   "language": "python",
   "name": "python3"
  },
  "language_info": {
   "codemirror_mode": {
    "name": "ipython",
    "version": 3
   },
   "file_extension": ".py",
   "mimetype": "text/x-python",
   "name": "python",
   "nbconvert_exporter": "python",
   "pygments_lexer": "ipython3",
   "version": "3.10.6"
  },
  "orig_nbformat": 4,
  "vscode": {
   "interpreter": {
    "hash": "916dbcbb3f70747c44a77c7bcd40155683ae19c65e1c03b4aa3499c5328201f1"
   }
  }
 },
 "nbformat": 4,
 "nbformat_minor": 2
}
