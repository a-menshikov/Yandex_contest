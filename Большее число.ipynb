{
 "cells": [
  {
   "attachments": {},
   "cell_type": "markdown",
   "metadata": {},
   "source": [
    "Ограничение времени\t0.5 секунды  \n",
    "Ограничение памяти\t64Mb  \n",
    "\n",
    "Ввод\tстандартный ввод или input.txt  \n",
    "Вывод\tстандартный вывод или output.txt  \n",
    "\n",
    "Вечером ребята решили поиграть в игру «Большое число».\n",
    "Даны числа. Нужно определить, какое самое большое число можно из них составить.\n",
    "\n",
    "Формат ввода  \n",
    "В первой строке записано n — количество чисел. Оно не превосходит 100.\n",
    "Во второй строке через пробел записаны n неотрицательных чисел, каждое из которых не превосходит 1000.\n",
    "\n",
    "Формат вывода  \n",
    "Нужно вывести самое большое число, которое можно составить из данных чисел."
   ]
  },
  {
   "cell_type": "code",
   "execution_count": null,
   "metadata": {},
   "outputs": [],
   "source": [
    "def element_compare(first, second):\n",
    "    max_len = max(len(first), len(second))\n",
    "    first_new = first + first[0]*(max_len - len(first))\n",
    "    second_new = second + second[0]*(max_len - len(second))\n",
    "    for i, j in zip(list(first_new), list(second_new)):\n",
    "        if i != j:\n",
    "            return int(i) < int(j)\n",
    "    if int(first[-1]) < int(second[-1]):\n",
    "        return True\n",
    "    return False\n",
    "\n",
    "\n",
    "def bubble(array, array_len):\n",
    "    for j in range(array_len-1):\n",
    "        for i in range(array_len-1-j):\n",
    "            if element_compare(array[i], array[i+1]):\n",
    "                array[i], array[i+1] = array[i+1], array[i]\n",
    "    print(''.join(array))\n",
    "\n",
    "\n",
    "array_len = int(input())\n",
    "array = input().split()\n",
    "\n",
    "bubble(array, array_len)"
   ]
  }
 ],
 "metadata": {
  "kernelspec": {
   "display_name": "Python 3",
   "language": "python",
   "name": "python3"
  },
  "language_info": {
   "codemirror_mode": {
    "name": "ipython",
    "version": 3
   },
   "file_extension": ".py",
   "mimetype": "text/x-python",
   "name": "python",
   "nbconvert_exporter": "python",
   "pygments_lexer": "ipython3",
   "version": "3.10.6"
  },
  "orig_nbformat": 4
 },
 "nbformat": 4,
 "nbformat_minor": 2
}
