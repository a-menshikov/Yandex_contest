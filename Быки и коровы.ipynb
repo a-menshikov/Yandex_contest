{
 "cells": [
  {
   "cell_type": "markdown",
   "metadata": {},
   "source": [
    "Быки и коровы\n",
    "\n",
    "Ограничение времени\t1 секунда  \n",
    "Ограничение памяти\t256Mb  \n",
    "\n",
    "Ввод\tстандартный ввод или input.txt  \n",
    "Вывод\tстандартный вывод или output.txt  \n",
    "\n",
    "Вася и Петя играют в игру «Быки и коровы».\n",
    "Вася загадал число состоящее из N цифр, а Петя пытается его отгадать. Петя называет число из N цифр, а Вася отвечает, сколько в нем «быков» и «коров».  \n",
    "Количество «быков» вычисляется как количество цифр, стоящих на своем месте.  \n",
    "Количество «коров» вычисляется как количество цифр, которые есть и загаданном Васей числе и в названном Петей, но стоят на разных местах. То есть эти цифры могут быть переставлены таким образом, чтобы стать «Быками».  \n",
    "По загаданному Васей и названному Петей числам определите количество «быков» и «коров».  \n",
    "\n",
    "Формат ввода  \n",
    "Загаданное Васей и Петей числа положительные и вводятся по одному в строке. Количество цифр в числах не превосходит 1000. Числа не имеют ведущих нулей.\n",
    "\n",
    "Формат вывода  \n",
    "В первой строке выведите количество «быков», а во второй — «коров»."
   ]
  },
  {
   "cell_type": "code",
   "execution_count": null,
   "metadata": {},
   "outputs": [],
   "source": [
    "def indexing_int(some_int_list):\n",
    "    int_index = {}\n",
    "    for i, j in enumerate(some_int_list):\n",
    "        if j in int_index:\n",
    "            int_index[j].add(i)\n",
    "        else:\n",
    "            int_index[j] = set([i])\n",
    "    return int_index\n",
    "\n",
    "first_int_index = indexing_int(list(map(int, input())))\n",
    "second_int_index = indexing_int(list(map(int, input())))\n",
    "\n",
    "bulls = 0\n",
    "cows = 0\n",
    "\n",
    "for i in second_int_index:\n",
    "    if i in first_int_index:\n",
    "        bulls += len(second_int_index[i] & first_int_index[i])\n",
    "        cows += min(len(first_int_index[i] - second_int_index[i]), len(second_int_index[i] - first_int_index[i])) \n",
    "\n",
    "print(bulls)\n",
    "print(cows)"
   ]
  }
 ],
 "metadata": {
  "language_info": {
   "name": "python"
  },
  "orig_nbformat": 4
 },
 "nbformat": 4,
 "nbformat_minor": 2
}
