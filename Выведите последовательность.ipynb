{
 "cells": [
  {
   "cell_type": "markdown",
   "metadata": {},
   "source": [
    "Из тестовых заданий:  \n",
    "\n",
    "Напишите программу, которая выводит _n_ первых элементов последовательности 122333444455555… (число повторяется столько раз, чему оно равно)."
   ]
  },
  {
   "cell_type": "code",
   "execution_count": null,
   "metadata": {},
   "outputs": [],
   "source": [
    "def sequence(n: int) -> None:\n",
    "    \"\"\"Вывод последовательности в терминал.\"\"\"\n",
    "    num: int = 1\n",
    "\n",
    "    while n > 0:\n",
    "        print(str(num) * min(num, n), end='')\n",
    "        n -= num\n",
    "        num += 1\n",
    "\n",
    "    print()\n",
    "\n",
    "\n",
    "def main() -> None:\n",
    "    \"\"\"Основная функция.\"\"\"\n",
    "    n: int = int(input(\"Введите количество элементов: \"))\n",
    "    if n < 1:\n",
    "        raise ValueError(\n",
    "            \"Количество элементов не может быть меньше единицы числом\"\n",
    "        )\n",
    "    sequence(n)\n",
    "\n",
    "\n",
    "if __name__ == '__main__':\n",
    "    try:\n",
    "        main()\n",
    "    except ValueError as e:\n",
    "        print(e)"
   ]
  },
  {
   "cell_type": "markdown",
   "metadata": {},
   "source": [
    "сознательно сделан вывод в консоль внутри функции, а не через return результирующей строки - в этой реализации выполняется задача вывода в консоль, но при больших числах в памяти не копится вся строка."
   ]
  }
 ],
 "metadata": {
  "kernelspec": {
   "display_name": "Python 3",
   "language": "python",
   "name": "python3"
  },
  "language_info": {
   "codemirror_mode": {
    "name": "ipython",
    "version": 3
   },
   "file_extension": ".py",
   "mimetype": "text/x-python",
   "name": "python",
   "nbconvert_exporter": "python",
   "pygments_lexer": "ipython3",
   "version": "3.10.12"
  },
  "orig_nbformat": 4
 },
 "nbformat": 4,
 "nbformat_minor": 2
}
