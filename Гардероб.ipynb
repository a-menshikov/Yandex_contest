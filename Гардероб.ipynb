{
 "cells": [
  {
   "attachments": {},
   "cell_type": "markdown",
   "metadata": {},
   "source": [
    "Ограничение времени\t1 секунда  \n",
    "Ограничение памяти\t64Mb  \n",
    "\n",
    "Ввод\tстандартный ввод или input.txt  \n",
    "Вывод\tстандартный вывод или output.txt\n",
    "\n",
    "Рита решила оставить у себя одежду только трёх цветов: розового, жёлтого и малинового. После того как вещи других расцветок были убраны, Рита захотела отсортировать свой новый гардероб по цветам. Сначала должны идти вещи розового цвета, потом —– жёлтого, и в конце —– малинового. Помогите Рите справиться с этой задачей.\n",
    "\n",
    "Примечание: попробуйте решить задачу за один проход по массиву!\n",
    "\n",
    "Формат ввода  \n",
    "В первой строке задано количество предметов в гардеробе: n –— оно не превосходит 1000000. Во второй строке даётся массив, в котором указан цвет для каждого предмета. Розовый цвет обозначен 0, жёлтый —– 1, малиновый –— 2.\n",
    "\n",
    "Формат вывода  \n",
    "Нужно вывести в строку через пробел цвета предметов в правильном порядке."
   ]
  },
  {
   "cell_type": "code",
   "execution_count": null,
   "metadata": {},
   "outputs": [],
   "source": [
    "size = int(input())\n",
    "array = input().split()\n",
    "\n",
    "zero = [] \n",
    "one = []\n",
    "two = []\n",
    "\n",
    "for i in array:\n",
    "    if i == '0':\n",
    "        zero.append(i)\n",
    "    elif i == '1':\n",
    "        one.append(i)\n",
    "    elif i == '2':\n",
    "        two.append(i)\n",
    "\n",
    "print(*zero, *one, *two)"
   ]
  }
 ],
 "metadata": {
  "kernelspec": {
   "display_name": "Python 3",
   "language": "python",
   "name": "python3"
  },
  "language_info": {
   "codemirror_mode": {
    "name": "ipython",
    "version": 3
   },
   "file_extension": ".py",
   "mimetype": "text/x-python",
   "name": "python",
   "nbconvert_exporter": "python",
   "pygments_lexer": "ipython3",
   "version": "3.10.6"
  },
  "orig_nbformat": 4
 },
 "nbformat": 4,
 "nbformat_minor": 2
}
