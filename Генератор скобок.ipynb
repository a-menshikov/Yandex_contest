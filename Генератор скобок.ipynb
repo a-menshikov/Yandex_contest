{
 "cells": [
  {
   "attachments": {},
   "cell_type": "markdown",
   "metadata": {},
   "source": [
    "Ограничение времени\t1 секунда  \n",
    "Ограничение памяти\t64Mb  \n",
    "\n",
    "Ввод\tстандартный ввод или input.txt  \n",
    "Вывод\tстандартный вывод или output.txt \n",
    "\n",
    "Рита по поручению Тимофея наводит порядок в правильных скобочных последовательностях (ПСП), состоящих только из круглых скобок (). Для этого ей надо сгенерировать все ПСП длины 2n в алфавитном порядке —– алфавит состоит из ( и ) и открывающая скобка идёт раньше закрывающей.\n",
    "\n",
    "Помогите Рите —– напишите программу, которая по заданному n выведет все ПСП в нужном порядке.\n",
    "\n",
    "Пример 1  \n",
    "Ввод  \n",
    "3\n",
    "\n",
    "Вывод  \n",
    "((()))  \n",
    "(()())  \n",
    "(())()  \n",
    "()(())  \n",
    "()()()  \n",
    "\n",
    "Пример 2  \n",
    "Ввод  \n",
    "2\n",
    "\n",
    "Вывод  \n",
    "(())  \n",
    "()()  \n",
    "\n",
    "Рассмотрим второй пример. Надо вывести ПСП из четырёх символов. Таких всего две:\n",
    "\n",
    "(())  \n",
    "()()  \n",
    "\n",
    "(()) идёт раньше ()(), так как первый символ у них одинаковый, а на второй позиции у первой ПСП стоит (, который идёт раньше ).\n",
    "\n",
    "Формат ввода  \n",
    "На вход функция принимает n — целое число от 0 до 10.\n",
    "\n",
    "Формат вывода  \n",
    "Функция должна напечатать все возможные скобочные последовательности заданной длины в алфавитном (лексикографическом) порядке.\n",
    "\n"
   ]
  },
  {
   "cell_type": "code",
   "execution_count": null,
   "metadata": {},
   "outputs": [],
   "source": [
    "def generate(count_psp, etalon, prefix, open, close):\n",
    "    if count_psp == 0:\n",
    "        print(prefix)\n",
    "    else:\n",
    "        if prefix == '':\n",
    "            generate(count_psp-1, etalon, prefix+'(', open+1, close)\n",
    "        else:\n",
    "            if open == etalon:\n",
    "                generate(count_psp-1, etalon, prefix+')', open, close+1)\n",
    "            elif open == close:\n",
    "                generate(count_psp-1, etalon, prefix+'(', open+1, close)\n",
    "            else:\n",
    "                generate(count_psp-1, etalon, prefix+'(', open+1, close)\n",
    "                generate(count_psp-1, etalon, prefix+')', open, close+1)\n",
    "\n",
    "\n",
    "count_psp = int(input())\n",
    "prefix = ''\n",
    "open = 0\n",
    "close = 0\n",
    "\n",
    "generate(count_psp*2, count_psp, prefix, open, close)"
   ]
  }
 ],
 "metadata": {
  "kernelspec": {
   "display_name": "Python 3",
   "language": "python",
   "name": "python3"
  },
  "language_info": {
   "codemirror_mode": {
    "name": "ipython",
    "version": 3
   },
   "file_extension": ".py",
   "mimetype": "text/x-python",
   "name": "python",
   "nbconvert_exporter": "python",
   "pygments_lexer": "ipython3",
   "version": "3.10.6"
  },
  "orig_nbformat": 4
 },
 "nbformat": 4,
 "nbformat_minor": 2
}
