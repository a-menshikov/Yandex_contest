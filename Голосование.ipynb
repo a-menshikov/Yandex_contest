{
 "cells": [
  {
   "attachments": {},
   "cell_type": "markdown",
   "metadata": {},
   "source": [
    "Голосование\n",
    "\n",
    "Напишите \"функцию голосования\", def Election(x, y, z), возвращающую то значение (True или False), которое среди значений ее аргументов x, y, z встречается чаще.\n",
    "\n",
    "Формат ввода  \n",
    "Вводится 3 числа - x, y и z (x, y и z равны 0 или 1, 0 соответствует значению False, 1 соответствует значению True).\n",
    "\n",
    "Формат вывода  \n",
    "Необходимо вывести  значение функции от x, y и z."
   ]
  },
  {
   "cell_type": "code",
   "execution_count": null,
   "metadata": {},
   "outputs": [],
   "source": [
    "x = map(int, input().split())\n",
    "\n",
    "def Election(x, y, z):\n",
    "    return (x+y+z)//2\n",
    "\n",
    "print(Election(*x))"
   ]
  }
 ],
 "metadata": {
  "language_info": {
   "name": "python"
  },
  "orig_nbformat": 4
 },
 "nbformat": 4,
 "nbformat_minor": 2
}
