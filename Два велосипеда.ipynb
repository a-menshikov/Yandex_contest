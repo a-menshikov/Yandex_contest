{
 "cells": [
  {
   "attachments": {},
   "cell_type": "markdown",
   "metadata": {},
   "source": [
    "Ограничение времени\t1 секунда  \n",
    "Ограничение памяти\t256Mb  \n",
    "\n",
    "Ввод\tстандартный ввод или input.txt  \n",
    "Вывод\tстандартный вывод или output.txt  \n",
    "\n",
    "Вася решил накопить денег на два одинаковых велосипеда — себе и сестре. У Васи есть копилка, в которую каждый день он может добавлять деньги (если, конечно, у него есть такая финансовая возможность). В процессе накопления Вася не вынимает деньги из копилки.\n",
    "\n",
    "У вас есть информация о росте Васиных накоплений — сколько у Васи в копилке было денег в каждый из дней.\n",
    "\n",
    "Ваша задача — по заданной стоимости велосипеда определить\n",
    "\n",
    "первый день, в которой Вася смог бы купить один велосипед,\n",
    "и первый день, в который Вася смог бы купить два велосипеда.\n",
    "\n",
    "Формат ввода  \n",
    "В первой строке дано число дней n, по которым велись наблюдения за Васиными накоплениями. 1 ≤ n ≤ 106.  \n",
    "В следующей строке записаны n целых неотрицательных чисел. Числа идут в порядке неубывания. Каждое из чисел не превосходит 106.  \n",
    "В третьей строке записано целое положительное число s — стоимость велосипеда. Это число не превосходит 106.  \n",
    "\n",
    "Формат вывода  \n",
    "Нужно вывести два числа — номера дней по условию задачи.\n",
    "\n",
    "Если необходимой суммы в копилке не нашлось, нужно вернуть -1 вместо номера дня."
   ]
  },
  {
   "cell_type": "code",
   "execution_count": null,
   "metadata": {},
   "outputs": [],
   "source": [
    "def binarySearch(arr, x, left, right):\n",
    "    if right - left <= 1:\n",
    "        if right >= len(arr):\n",
    "            right = len(arr) - 1\n",
    "        if left >= len(arr):\n",
    "            left = len(arr) - 1\n",
    "        if arr[left] < x and arr[right] < x:\n",
    "            return -1\n",
    "        elif arr[left] >= x:\n",
    "            return left + 1\n",
    "        else:\n",
    "            return right + 1\n",
    "    mid = (left + right) // 2\n",
    "    if x <= arr[mid]:\n",
    "        return binarySearch(arr, x, left, mid)\n",
    "    else:\n",
    "        return binarySearch(arr, x, mid + 1, right)\n",
    "\n",
    "days = int(input())\n",
    "money_per_days = list(map(int, input().split()))\n",
    "price_for_one = int(input())\n",
    "\n",
    "index = binarySearch(money_per_days, price_for_one, left = 0, right = days-1)\n",
    "index_2 = binarySearch(money_per_days, price_for_one*2, left = 0, right = days)\n",
    "\n",
    "print(index, index_2)"
   ]
  }
 ],
 "metadata": {
  "kernelspec": {
   "display_name": "Python 3",
   "language": "python",
   "name": "python3"
  },
  "language_info": {
   "codemirror_mode": {
    "name": "ipython",
    "version": 3
   },
   "file_extension": ".py",
   "mimetype": "text/x-python",
   "name": "python",
   "nbconvert_exporter": "python",
   "pygments_lexer": "ipython3",
   "version": "3.10.6"
  },
  "orig_nbformat": 4
 },
 "nbformat": 4,
 "nbformat_minor": 2
}
