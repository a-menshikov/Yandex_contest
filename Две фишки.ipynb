{
 "cells": [
  {
   "attachments": {},
   "cell_type": "markdown",
   "metadata": {},
   "source": [
    "Ограничение времени\t1 секунда  \n",
    "Ограничение памяти\t256Mb  \n",
    "\n",
    "Ввод\tстандартный ввод или input.txt  \n",
    "Вывод\tстандартный вывод или output.txt  \n",
    "\n",
    "Рита и Гоша играют в игру. У Риты есть n фишек, на каждой из которых написано количество очков. Фишки лежат на столе в порядке неубывания очков на них. Сначала Гоша называет число k, затем Рита должна выбрать две фишки, сумма очков на которых равна заданному числу.\n",
    "\n",
    "Рите надоело искать фишки самой, и она решила применить свои навыки программирования для решения этой задачи. Помогите ей написать программу для поиска нужных фишек.\n",
    "\n",
    "Формат ввода  \n",
    "В первой строке записано количество фишек n, 2 ≤ n ≤ 105.\n",
    "\n",
    "Во второй строке записано n целых чисел в порядке неубывания —– очки на фишках Риты в диапазоне от -105 до 105.\n",
    "\n",
    "В третьей строке —– загаданное Гошей целое число k, -105 ≤ k ≤ 105.\n",
    "\n",
    "Формат вывода  \n",
    "Нужно вывести два числа —– очки на двух фишках, в сумме дающие k.\n",
    "\n",
    "Если таких пар несколько, то можно вывести любую из них.\n",
    "\n",
    "Если таких пар не существует, то вывести «None»."
   ]
  },
  {
   "cell_type": "code",
   "execution_count": null,
   "metadata": {},
   "outputs": [],
   "source": [
    "from typing import List, Tuple, Optional\n",
    "\n",
    "def two_sum(arr: List[int], target_sum: int) -> Optional[Tuple[int, int]]:\n",
    "    previous = set()\n",
    "\n",
    "    for A in arr:\n",
    "        Y = target_sum - A\n",
    "        if Y in previous:\n",
    "            return A, Y\n",
    "        else:\n",
    "            previous.add(A)\n",
    "\n",
    "    return None\n",
    "\n",
    "def read_input() -> Tuple[List[int], int]:\n",
    "    n = int(input())\n",
    "    arr = list(map(int, input().strip().split()))\n",
    "    target_sum = int(input())\n",
    "    return arr, target_sum\n",
    "\n",
    "def print_result(result: Optional[Tuple[int, int]]) -> None:\n",
    "    if result is None:\n",
    "        print(None)\n",
    "    else:\n",
    "        print(\" \".join(map(str, result)))\n",
    "\n",
    "arr, target_sum = read_input()\n",
    "print_result(two_sum(arr, target_sum))"
   ]
  }
 ],
 "metadata": {
  "kernelspec": {
   "display_name": "Python 3",
   "language": "python",
   "name": "python3"
  },
  "language_info": {
   "name": "python",
   "version": "3.10.6"
  },
  "orig_nbformat": 4,
  "vscode": {
   "interpreter": {
    "hash": "916dbcbb3f70747c44a77c7bcd40155683ae19c65e1c03b4aa3499c5328201f1"
   }
  }
 },
 "nbformat": 4,
 "nbformat_minor": 2
}
