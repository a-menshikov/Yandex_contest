{
 "cells": [
  {
   "attachments": {},
   "cell_type": "markdown",
   "metadata": {},
   "source": [
    "Ограничение времени\t0.1 секунда\t  \n",
    "Ограничение памяти 64Mb  \n",
    "\n",
    "Ввод стандартный ввод или input.txt  \n",
    "Вывод стандартный вывод или output.txt  \n",
    "\n",
    "Тимофей записал два числа в двоичной системе счисления и попросил Гошу вывести их сумму, также в двоичной системе. Встроенную в язык программирования возможность сложения двоичных чисел применять нельзя. Помогите Гоше решить задачу.\n",
    "\n",
    "Решение должно работать за O(N), где N –— количество разрядов максимального числа на входе.\n",
    "\n",
    "Формат ввода  \n",
    "Два числа в двоичной системе счисления, каждое на отдельной строке. Длина каждого числа не превосходит 10 000 символов.\n",
    "\n",
    "Формат вывода  \n",
    "Одно число в двоичной системе счисления."
   ]
  },
  {
   "cell_type": "code",
   "execution_count": 39,
   "metadata": {},
   "outputs": [
    {
     "name": "stdout",
     "output_type": "stream",
     "text": [
      "0\n"
     ]
    }
   ],
   "source": [
    "first_number = [*map(int, input().strip())]\n",
    "second_number = [*map(int, input().strip())]\n",
    "\n",
    "first_number = first_number[::-1]\n",
    "second_number = second_number[::-1]\n",
    "\n",
    "size = max(len(first_number), len(second_number))\n",
    "\n",
    "first_number += [0] * (size - len(first_number))\n",
    "second_number += [0] * (size - len(second_number))\n",
    "\n",
    "add = 0\n",
    "answer = []\n",
    "\n",
    "for obj in zip(first_number, second_number):\n",
    "    current_sum = sum(obj, add)\n",
    "    add = current_sum // 2\n",
    "    answer.append(current_sum % 2)\n",
    "\n",
    "if add == 1:\n",
    "    answer.append(1)\n",
    "\n",
    "print(\"\".join(map(str, answer[::-1])))"
   ]
  }
 ],
 "metadata": {
  "kernelspec": {
   "display_name": "Python 3",
   "language": "python",
   "name": "python3"
  },
  "language_info": {
   "codemirror_mode": {
    "name": "ipython",
    "version": 3
   },
   "file_extension": ".py",
   "mimetype": "text/x-python",
   "name": "python",
   "nbconvert_exporter": "python",
   "pygments_lexer": "ipython3",
   "version": "3.10.6"
  },
  "orig_nbformat": 4,
  "vscode": {
   "interpreter": {
    "hash": "916dbcbb3f70747c44a77c7bcd40155683ae19c65e1c03b4aa3499c5328201f1"
   }
  }
 },
 "nbformat": 4,
 "nbformat_minor": 2
}
