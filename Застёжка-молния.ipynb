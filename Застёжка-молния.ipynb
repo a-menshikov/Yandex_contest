{
 "cells": [
  {
   "attachments": {},
   "cell_type": "markdown",
   "metadata": {},
   "source": [
    "Ограничение времени\t1 секунда  \n",
    "Ограничение памяти\t64Mb  \n",
    "\n",
    "Ввод\tстандартный ввод или input.txt  \n",
    "Вывод\tстандартный вывод или output.txt  \n",
    "\n",
    "Даны два массива чисел длины n. Составьте из них один массив длины 2n, в котором числа из входных массивов чередуются (первый — второй — первый — второй — ...). При этом относительный порядок следования чисел из одного массива должен быть сохранён.\n",
    "\n",
    "Формат ввода  \n",
    "В первой строке записано целое число n –— длина каждого из массивов, 1 ≤ n ≤ 1000.\n",
    "\n",
    "Во второй строке записано n чисел из первого массива, через пробел.\n",
    "\n",
    "В третьей строке –— n чисел из второго массива.\n",
    "\n",
    "Значения всех чисел –— натуральные и не превосходят 1000.\n",
    "\n",
    "Формат вывода  \n",
    "Выведите 2n чисел из объединённого массива через пробел."
   ]
  },
  {
   "cell_type": "code",
   "execution_count": null,
   "metadata": {},
   "outputs": [],
   "source": [
    "from typing import List, Tuple\n",
    "\n",
    "def zipper(a: List[int], b: List[int]) -> List[int]:\n",
    "    answer = []\n",
    "    for i in zip(a, b):\n",
    "        answer.extend(i)\n",
    "    return answer\n",
    "\n",
    "def read_input() -> Tuple[List[int], List[int]]:\n",
    "    n = int(input())\n",
    "    a = list(map(int, input().strip().split()))\n",
    "    b = list(map(int, input().strip().split()))\n",
    "    return a, b\n",
    "\n",
    "a, b = read_input()\n",
    "print(\" \".join(map(str, zipper(a, b))))"
   ]
  }
 ],
 "metadata": {
  "kernelspec": {
   "display_name": "Python 3",
   "language": "python",
   "name": "python3"
  },
  "language_info": {
   "codemirror_mode": {
    "name": "ipython",
    "version": 3
   },
   "file_extension": ".py",
   "mimetype": "text/x-python",
   "name": "python",
   "nbconvert_exporter": "python",
   "pygments_lexer": "ipython3",
   "version": "3.10.6"
  },
  "orig_nbformat": 4,
  "vscode": {
   "interpreter": {
    "hash": "916dbcbb3f70747c44a77c7bcd40155683ae19c65e1c03b4aa3499c5328201f1"
   }
  }
 },
 "nbformat": 4,
 "nbformat_minor": 2
}
