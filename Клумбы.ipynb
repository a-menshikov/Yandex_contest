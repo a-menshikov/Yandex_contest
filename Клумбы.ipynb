{
 "cells": [
  {
   "attachments": {},
   "cell_type": "markdown",
   "metadata": {},
   "source": [
    "Ограничение времени\t1 секунда  \n",
    "Ограничение памяти\t64Mb  \n",
    "\n",
    "Ввод\tстандартный ввод или input.txt  \n",
    "Вывод\tстандартный вывод или output.txt  \n",
    "\n",
    "Алла захотела, чтобы у неё под окном были узкие клумбы с тюльпанам. На схеме земельного участка клумбы обозначаются просто горизонтальными отрезками, лежащими на одной прямой. Для ландшафтных работ было нанято n садовников. Каждый из них обрабатывал какой-то отрезок на схеме. Процесс был организован не очень хорошо, иногда один и тот же отрезок или его часть могли быть обработаны сразу несколькими садовниками. Таким образом, отрезки, обрабатываемые двумя разными садовниками, сливаются в один. Непрерывный обработанный отрезок затем станет клумбой. Нужно определить границы будущих клумб.\n",
    "\n",
    "Формат ввода  \n",
    "В первой строке задано количество садовников n. Число садовников не превосходит 100000. В следующих n строках через пробел записаны координаты клумб в формате: start end, где start —– координата начала, end —– координата конца. Оба числа целые, неотрицательные и не превосходят 10**7.  start строго меньше, чем end.\n",
    "\n",
    "Формат вывода  \n",
    "Нужно вывести координаты каждой из получившихся клумб в отдельных строках. Данные должны выводиться в отсортированном порядке —– сначала клумбы с меньшими координатами, затем —– с бОльшими."
   ]
  },
  {
   "cell_type": "code",
   "execution_count": null,
   "metadata": {},
   "outputs": [],
   "source": [
    "count_workers = int(input())\n",
    "workers = []\n",
    "\n",
    "for i in range(count_workers):\n",
    "    worker = list(map(int, input().split()))\n",
    "    workers.append(worker)\n",
    "\n",
    "workers.sort()\n",
    "\n",
    "begin = workers[0][0]\n",
    "end = workers[0][1]\n",
    "start = current_index = 1\n",
    "\n",
    "while current_index <= count_workers-1:\n",
    "    if workers[current_index][0] <= end:\n",
    "        end = max(end, workers[current_index][1])\n",
    "        current_index += 1\n",
    "    else:\n",
    "        print(begin, end)\n",
    "        begin = workers[current_index][0]\n",
    "        end = workers[current_index][1]\n",
    "        current_index += 1\n",
    "print(begin, end)"
   ]
  }
 ],
 "metadata": {
  "kernelspec": {
   "display_name": "Python 3",
   "language": "python",
   "name": "python3"
  },
  "language_info": {
   "codemirror_mode": {
    "name": "ipython",
    "version": 3
   },
   "file_extension": ".py",
   "mimetype": "text/x-python",
   "name": "python",
   "nbconvert_exporter": "python",
   "pygments_lexer": "ipython3",
   "version": "3.10.6"
  },
  "orig_nbformat": 4
 },
 "nbformat": 4,
 "nbformat_minor": 2
}
