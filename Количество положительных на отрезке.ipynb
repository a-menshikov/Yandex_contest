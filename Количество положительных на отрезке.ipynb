{
 "cells": [
  {
   "attachments": {},
   "cell_type": "markdown",
   "metadata": {},
   "source": [
    "Количество положительных на отрезке\n",
    "\n",
    "Ограничение времени\t2 секунды  \n",
    "Ограничение памяти\t64Mb  \n",
    "\n",
    "Ввод\tстандартный ввод или input.txt  \n",
    "Вывод\tстандартный вывод или output.txt\n",
    "\n",
    "Дана последовательность чисел и запросы вида \"определите сколько положительных чисел на отрезке с индексами от L до R\".\n",
    "\n",
    "Формат ввода  \n",
    "В первой строке вводится число n (1 ≤ n ≤ 100000) — длина последовательности.\n",
    "\n",
    "Во второй строке вводится последовательность из n целых чисел, все числа по модулю не превосходят 100000. Нумерация в последовательности начинается с единицы.\n",
    "\n",
    "В первой строке вводится число q (1 ≤ q ≤ 100000) — количество запросов.\n",
    "\n",
    "В каждой из следующих q строк вводятся запросы — два индекса l и r (1 ≤ l ≤ r ≤ n)\n",
    "\n",
    "Формат вывода  \n",
    "Для каждого запроса выведите количество положительных на отрезке."
   ]
  },
  {
   "cell_type": "code",
   "execution_count": null,
   "metadata": {},
   "outputs": [],
   "source": [
    "count_numbers = int(input())\n",
    "numbers = list(map(int, input().split()))\n",
    "\n",
    "def prefix(count_numbers, numbers):\n",
    "    positive_cumm = [0] * count_numbers\n",
    "    prev_value = 0\n",
    "    for i in range(count_numbers):\n",
    "        if numbers[i] > 0:\n",
    "            prev_value += 1\n",
    "        positive_cumm[i] = prev_value\n",
    "    return positive_cumm\n",
    "\n",
    "def count_positive(start, finish, positive_cumm):\n",
    "    if start == 1:\n",
    "        return positive_cumm[finish-1]\n",
    "    return positive_cumm[finish-1] - positive_cumm[start-2]\n",
    "\n",
    "prefix_list = prefix(count_numbers, numbers)\n",
    "\n",
    "for i in range(int(input())):\n",
    "    start, finish = map(int, input().split())\n",
    "    print(count_positive(start, finish, prefix_list))"
   ]
  }
 ],
 "metadata": {
  "language_info": {
   "name": "python"
  },
  "orig_nbformat": 4
 },
 "nbformat": 4,
 "nbformat_minor": 2
}
