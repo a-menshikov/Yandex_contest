{
 "cells": [
  {
   "attachments": {},
   "cell_type": "markdown",
   "metadata": {},
   "source": [
    "Количество цифр\n",
    "\n",
    "Дана последовательность чисел, состоящая только из чисел 1, ..., 9. Последовательность завершается числом 0. Каждое число записано в отдельной строке.\n",
    "\n",
    "Подсчитайте, сколько раз в этой последовательности встречаются значения 1, 2, ..., 9. Сохранять всю последовательность введенных чисел в списке нельзя.\n",
    "\n",
    "Программа должна вывести ровно 9 чисел: количество единиц, двоек, ..., девяток в данной последовательности."
   ]
  },
  {
   "cell_type": "code",
   "execution_count": null,
   "metadata": {},
   "outputs": [],
   "source": [
    "file = open(\"input.txt\", \"r\", encoding='utf-8')\n",
    "x = file.readlines()\n",
    "result = dict.fromkeys(range(1,10), 0)\n",
    "for i in x:\n",
    "    i = i.strip()\n",
    "    if i == '0':\n",
    "        break\n",
    "    result[int(i)] = result.get(int(i),0) + 1\n",
    "\n",
    "for i in result.values():\n",
    "    print(i, end = ' ')"
   ]
  }
 ],
 "metadata": {
  "language_info": {
   "name": "python"
  },
  "orig_nbformat": 4
 },
 "nbformat": 4,
 "nbformat_minor": 2
}
