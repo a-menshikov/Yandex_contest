{
 "cells": [
  {
   "attachments": {},
   "cell_type": "markdown",
   "metadata": {},
   "source": [
    "Ограничение времени\t1 секунда  \n",
    "Ограничение памяти\t64Mb  \n",
    "\n",
    "Ввод\tстандартный ввод или input.txt  \n",
    "Вывод\tстандартный вывод или output.txt  \n",
    "\n",
    "На клавиатуре старых мобильных телефонов каждой цифре соответствовало несколько букв. Примерно так:\n",
    "\n",
    "2: 'abc',  \n",
    "3: 'def',  \n",
    "4: 'ghi',  \n",
    "5: 'jkl',  \n",
    "6: 'mno',  \n",
    "7: 'pqrs',  \n",
    "8: 'tuv',  \n",
    "9: 'wxyz'  \n",
    "\n",
    "Вам известно в каком порядке были нажаты кнопки телефона, без учета повторов. Напечатайте все комбинации букв, которые можно набрать такой последовательностью нажатий.\n",
    "\n",
    "Формат ввода  \n",
    "На вход подается строка, состоящая из цифр 2-9 включительно. Длина строки не превосходит 10 символов.\n",
    "\n",
    "Формат вывода  \n",
    "Выведите все возможные комбинации букв через пробел."
   ]
  },
  {
   "cell_type": "code",
   "execution_count": null,
   "metadata": {},
   "outputs": [],
   "source": [
    "key_letter = {\n",
    "    '2':'abc',\n",
    "    '3':'def',\n",
    "    '4':'ghi',\n",
    "    '5':'jkl',\n",
    "    '6':'mno',\n",
    "    '7':'pqrs',\n",
    "    '8':'tuv',\n",
    "    '9':'wxyz',\n",
    "}\n",
    "\n",
    "def combinate(key_history, len_key_history, prefix):\n",
    "    if len_key_history == 0:\n",
    "        print(prefix, end = ' ')\n",
    "    else:\n",
    "        for i in key_letter[key_history[0]]:\n",
    "            combinate(key_history[1:], len_key_history-1, prefix+i)\n",
    "\n",
    "key_history = input()\n",
    "len_key_history = len(key_history)\n",
    "prefix = ''\n",
    "\n",
    "combinate(key_history, len_key_history, prefix)\n"
   ]
  }
 ],
 "metadata": {
  "kernelspec": {
   "display_name": "Python 3",
   "language": "python",
   "name": "python3"
  },
  "language_info": {
   "codemirror_mode": {
    "name": "ipython",
    "version": 3
   },
   "file_extension": ".py",
   "mimetype": "text/x-python",
   "name": "python",
   "nbconvert_exporter": "python",
   "pygments_lexer": "ipython3",
   "version": "3.10.6"
  },
  "orig_nbformat": 4
 },
 "nbformat": 4,
 "nbformat_minor": 2
}
