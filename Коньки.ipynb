{
 "cells": [
  {
   "attachments": {},
   "cell_type": "markdown",
   "metadata": {},
   "source": [
    "Коньки\n",
    "\n",
    "Ограничение времени\t1 секунда  \n",
    "Ограничение памяти\t64Mb  \n",
    "Ввод\tстандартный ввод или input.txt  \n",
    "Вывод\tстандартный вывод или output.txt  \n",
    "\n",
    "В школе есть много коньков самых разных размеров. Школьник может надеть коньки любого размера, который не меньше размеров его ноги. Известны размеры всех коньков и размеры ног школьников. Определите, какое наибольшее число школьников сможет одновременно пойти покататься.\n",
    "\n",
    "Формат ввода  \n",
    "Первая строка содержит список натуральных чисел размеры коньков. Вторая строка содержит список размеров ног школьников.\n",
    "\n",
    "Формат вывода  \n",
    "Выведите единственное число — наибольшее количество школьников, которое сможет пойти на каток."
   ]
  },
  {
   "cell_type": "code",
   "execution_count": null,
   "metadata": {},
   "outputs": [],
   "source": [
    "sizes = sorted(list(map(int,input().split())))\n",
    "need = list(map(int,input().split()))\n",
    "\n",
    "def binary_search(arr, val):\n",
    "    if len(arr) == 0:\n",
    "        return None\n",
    "    low_ind = 0\n",
    "    high_ind = len(arr) - 1\n",
    "    while(high_ind - low_ind > 1):\n",
    "        mid_index = (high_ind + low_ind) // 2\n",
    "        if(arr[mid_index] < val):\n",
    "            low_ind = mid_index\n",
    "        else:\n",
    "            high_ind = mid_index\n",
    "    if val == arr[low_ind] or arr[high_ind] == val:\n",
    "        return val\n",
    "    elif val < arr[low_ind]:\n",
    "        return arr[low_ind]\n",
    "    elif val < arr[high_ind]:\n",
    "        return arr[high_ind]\n",
    "    else:\n",
    "        return None\n",
    "\n",
    "var = 0\n",
    "\n",
    "for i in need:\n",
    "    res = binary_search(sizes, i)\n",
    "    if res:\n",
    "        sizes.remove(res)\n",
    "        var += 1\n",
    "\n",
    "print(var)"
   ]
  }
 ],
 "metadata": {
  "language_info": {
   "name": "python"
  },
  "orig_nbformat": 4
 },
 "nbformat": 4,
 "nbformat_minor": 2
}
