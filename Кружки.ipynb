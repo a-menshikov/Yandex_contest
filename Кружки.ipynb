{
 "cells": [
  {
   "attachments": {},
   "cell_type": "markdown",
   "metadata": {},
   "source": [
    "Ограничение времени\t1 секунда  \n",
    "Ограничение памяти\t64Mb  \n",
    "\n",
    "Ввод\tстандартный ввод или input.txt  \n",
    "Вывод\tстандартный вывод или output.txt  \n",
    "\n",
    "В компании, где работает Тимофей, заботятся о досуге сотрудников и устраивают различные кружки по интересам. Когда кто-то записывается на занятие, в лог вносится название кружка.\n",
    "\n",
    "По записям в логе составьте список всех кружков, в которые ходит хотя бы один человек.\n",
    "\n",
    "Формат ввода  \n",
    "В первой строке даётся натуральное число n, не превосходящее 10 000 –— количество записей в логе.\n",
    "\n",
    "В следующих n строках —– названия кружков.\n",
    "\n",
    "Формат вывода  \n",
    "Выведите уникальные названия кружков по одному на строке, в порядке появления во входных данных."
   ]
  },
  {
   "cell_type": "code",
   "execution_count": null,
   "metadata": {},
   "outputs": [],
   "source": [
    "x = int(input())\n",
    "total = {}\n",
    "\n",
    "for i in range(x):\n",
    "    input_text = input()\n",
    "    total[input_text] = 1\n",
    "\n",
    "print(*total.keys(), sep='\\n')"
   ]
  }
 ],
 "metadata": {
  "kernelspec": {
   "display_name": "Python 3",
   "language": "python",
   "name": "python3"
  },
  "language_info": {
   "codemirror_mode": {
    "name": "ipython",
    "version": 3
   },
   "file_extension": ".py",
   "mimetype": "text/x-python",
   "name": "python",
   "nbconvert_exporter": "python",
   "pygments_lexer": "ipython3",
   "version": "3.10.6"
  },
  "orig_nbformat": 4
 },
 "nbformat": 4,
 "nbformat_minor": 2
}
