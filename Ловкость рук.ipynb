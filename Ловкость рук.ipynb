{
 "cells": [
  {
   "attachments": {},
   "cell_type": "markdown",
   "metadata": {},
   "source": [
    "Ограничение времени\t1 секунда\n",
    "Ограничение памяти\t64Mb\n",
    "\n",
    "Ввод\tстандартный ввод или input.txt\n",
    "Вывод\tстандартный вывод или output.txt\n",
    "\n",
    "Игра «Тренажёр для скоростной печати» представляет собой поле из клавиш 4x4. В нём на каждом раунде появляется конфигурация цифр и точек. На клавише написана либо точка, либо цифра от 1 до 9.\n",
    "\n",
    "В момент времени t игрок должен одновременно нажать на все клавиши, на которых написана цифра t. Гоша и Тимофей могут нажать в один момент времени на k клавиш каждый. Если в момент времени t нажаты все нужные клавиши, то игроки получают 1 балл.\n",
    "\n",
    "Найдите число баллов, которое смогут заработать Гоша и Тимофей, если будут нажимать на клавиши вдвоём.\n",
    "\n",
    "Формат ввода\n",
    "В первой строке дано целое число k (1 ≤ k ≤ 5).\n",
    "\n",
    "В четырёх следующих строках задан вид тренажёра -— по 4 символа в каждой строке. Каждый символ – либо точка, либо цифра от 1 до 9. Символы одной строки идут подряд и не разделены пробелами.\n",
    "\n",
    "Формат вывода\n",
    "Выведите единственное число -— максимальное количество баллов, которое смогут набрать Гоша и Тимофей."
   ]
  },
  {
   "cell_type": "code",
   "execution_count": null,
   "metadata": {},
   "outputs": [],
   "source": [
    "from typing import Tuple, List\n",
    "\n",
    "\n",
    "def read_input(matrix_size: int) -> Tuple[int, List[str]]:\n",
    "    \"\"\"Считывает ввод в переменные.\"\"\"\n",
    "    ONE_BOY_CAN_TAP = int(input())\n",
    "    values = []\n",
    "    for _ in range(matrix_size):\n",
    "        values.extend(list(input()))\n",
    "    return ONE_BOY_CAN_TAP, values\n",
    "\n",
    "\n",
    "def game(values: Tuple[int, List[str]], ONE_BOY_CAN_TAP: int,\n",
    "         BOYS_COUNT: int) -> int:\n",
    "    \"\"\"Проводит расчёт результатов игры.\"\"\"\n",
    "    all_boys_can_tap = ONE_BOY_CAN_TAP*BOYS_COUNT\n",
    "    fail_set = {'.'}\n",
    "    counter_values = {}\n",
    "    for i in values:\n",
    "        if i in fail_set:\n",
    "            continue\n",
    "        counter_values[i] = counter_values.get(i, 0) + 1\n",
    "        if counter_values[i] > all_boys_can_tap:\n",
    "            fail_set.add(i)\n",
    "    return len(counter_values) - len(fail_set) + 1\n",
    "\n",
    "\n",
    "if __name__ == '__main__':\n",
    "    MATRIX_SIZE = 4\n",
    "    BOYS_COUNT = 2\n",
    "    ONE_BOY_CAN_TAP, values = read_input(MATRIX_SIZE)\n",
    "    print(game(values, ONE_BOY_CAN_TAP, BOYS_COUNT))"
   ]
  }
 ],
 "metadata": {
  "kernelspec": {
   "display_name": "Python 3",
   "language": "python",
   "name": "python3"
  },
  "language_info": {
   "codemirror_mode": {
    "name": "ipython",
    "version": 3
   },
   "file_extension": ".py",
   "mimetype": "text/x-python",
   "name": "python",
   "nbconvert_exporter": "python",
   "pygments_lexer": "ipython3",
   "version": "3.10.6"
  },
  "orig_nbformat": 4,
  "vscode": {
   "interpreter": {
    "hash": "916dbcbb3f70747c44a77c7bcd40155683ae19c65e1c03b4aa3499c5328201f1"
   }
  }
 },
 "nbformat": 4,
 "nbformat_minor": 2
}
