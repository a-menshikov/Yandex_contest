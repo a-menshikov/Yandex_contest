{
 "cells": [
  {
   "attachments": {},
   "cell_type": "markdown",
   "metadata": {},
   "source": [
    "Ограничение времени\t1 секунда  \n",
    "Ограничение памяти\t64Mb  \n",
    "\n",
    "Ввод\tстандартный ввод или input.txt  \n",
    "Вывод\tстандартный вывод или output.txt\n",
    "\n",
    "Дана последовательность натуральных чисел, завершающаяся число 0. Определите наибольшую длину монотонного фрагмента последовательности (то есть такого фрагмента, где все элементы либо больше предыдущего, либо меньше).\n",
    "\n",
    "Формат ввода  \n",
    "Вводится последовательность целых чисел, оканчивающаяся числом 0 (само число 0 в последовательность не входит, а служит как признак ее окончания).\n",
    "\n",
    "Формат вывода  \n",
    "Выведите ответ на задачу."
   ]
  },
  {
   "cell_type": "code",
   "execution_count": null,
   "metadata": {},
   "outputs": [],
   "source": [
    "x = int(input())\n",
    "mono_up = 1\n",
    "mono_down = 1\n",
    "max_count = 1\n",
    "while True:\n",
    "    y = int(input())\n",
    "    if y == 0:\n",
    "        break\n",
    "    if y > x:\n",
    "        mono_up += 1\n",
    "        mono_down = 1\n",
    "        if mono_up > max_count:\n",
    "            max_count = mono_up\n",
    "        x = y\n",
    "    elif y < x:\n",
    "        mono_down += 1\n",
    "        mono_up = 1\n",
    "        if mono_down > max_count:\n",
    "            max_count = mono_down\n",
    "        x = y    \n",
    "    else:\n",
    "        mono_up = 1\n",
    "        mono_down = 1\n",
    "        x = y\n",
    "print(max_count)"
   ]
  }
 ],
 "metadata": {
  "language_info": {
   "name": "python"
  },
  "orig_nbformat": 4
 },
 "nbformat": 4,
 "nbformat_minor": 2
}
