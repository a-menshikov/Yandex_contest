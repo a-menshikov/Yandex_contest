{
 "cells": [
  {
   "attachments": {},
   "cell_type": "markdown",
   "metadata": {},
   "source": [
    "Ограничение времени 1 секунда  \n",
    "Ограничение памяти 64Mb  \n",
    "\n",
    "Ввод стандартный ввод или input.txt  \n",
    "Вывод стандартный вывод или output.txt\n",
    "\n",
    "Алла получила задание, связанное с мониторингом работы различных серверов. Требуется понять, сколько времени обрабатываются определённые запросы на конкретных серверах. Эту информацию нужно хранить в матрице, где номер столбца соответствуют идентификатору запроса, а номер строки — идентификатору сервера. Алла перепутала строки и столбцы местами. С каждым бывает. Помогите ей исправить баг.\n",
    "\n",
    "Есть матрица размера m × n. Нужно написать функцию, которая её транспонирует.\n",
    "\n",
    "Транспонированная матрица получается из исходной заменой строк на столбцы.\n",
    "\n",
    "Формат ввода  \n",
    "В первой строке задано число n — количество строк матрицы.\n",
    "Во второй строке задано m — число столбцов, m и n не превосходят 1000. В следующих n строках задана матрица. Числа в ней не превосходят по модулю 1000.\n",
    "\n",
    "Формат вывода  \n",
    "Напечатайте транспонированную матрицу в том же формате, который задан во входных данных. Каждая строка матрицы выводится на отдельной строке, элементы разделяются пробелами."
   ]
  },
  {
   "cell_type": "code",
   "execution_count": null,
   "metadata": {},
   "outputs": [],
   "source": [
    "def transpose(matrix, col):\n",
    "    for i in range(col):\n",
    "        for k in matrix:\n",
    "            print(k[i], end=' ')\n",
    "        print('\\n', end='')\n",
    "\n",
    "row = int(input())\n",
    "col = int(input())\n",
    "matrix = []\n",
    "\n",
    "for i in range(row):\n",
    "    x = input().split()\n",
    "    matrix.append(x)\n",
    "\n",
    "transpose(matrix, col)"
   ]
  }
 ],
 "metadata": {
  "kernelspec": {
   "display_name": "Python 3",
   "language": "python",
   "name": "python3"
  },
  "language_info": {
   "codemirror_mode": {
    "name": "ipython",
    "version": 3
   },
   "file_extension": ".py",
   "mimetype": "text/x-python",
   "name": "python",
   "nbconvert_exporter": "python",
   "pygments_lexer": "ipython3",
   "version": "3.10.6"
  },
  "orig_nbformat": 4,
  "vscode": {
   "interpreter": {
    "hash": "916dbcbb3f70747c44a77c7bcd40155683ae19c65e1c03b4aa3499c5328201f1"
   }
  }
 },
 "nbformat": 4,
 "nbformat_minor": 2
}
