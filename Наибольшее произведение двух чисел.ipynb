{
 "cells": [
  {
   "attachments": {},
   "cell_type": "markdown",
   "metadata": {},
   "source": [
    "Ограничение времени\t1 секунда  \n",
    "Ограничение памяти\t64Mb  \n",
    "Ввод\tстандартный ввод или input.txt  \n",
    "Вывод\tстандартный вывод или output.txt  \n",
    "\n",
    "Дан список, заполненный произвольными целыми числами. Найдите в этом списке два числа, произведение которых максимально. Выведите эти числа в порядке неубывания.\n",
    "\n",
    "Список содержит не менее двух элементов. Числа подобраны так, что ответ однозначен.\n",
    "\n",
    "Решение должно иметь сложность O(n), где n - размер списка."
   ]
  },
  {
   "cell_type": "code",
   "execution_count": null,
   "metadata": {},
   "outputs": [],
   "source": [
    "x = [int(i) for i in input().split()]\n",
    "\n",
    "def max_multi(x: list):\n",
    "    p1 = p2 = 0\n",
    "    n1 = n2 = 0\n",
    "    if len(x) == 2:\n",
    "        return sorted(x)\n",
    "\n",
    "    for i in x:\n",
    "        if i > 0:\n",
    "            if i > p1:\n",
    "                p1, p2 = i, p1\n",
    "            elif i > p2:\n",
    "                p2 = i\n",
    "        if i < 0:\n",
    "            if i < n1:\n",
    "                n1, n2 = i, n1\n",
    "            elif i < n2:\n",
    "                n2 = i\n",
    "\n",
    "    if n1*n2 > p1*p2:\n",
    "        return [n1, n2]\n",
    "    else:\n",
    "        return [p2, p1]\n",
    "\n",
    "print(*max_multi(x))    "
   ]
  }
 ],
 "metadata": {
  "kernelspec": {
   "display_name": "Python 3",
   "language": "python",
   "name": "python3"
  },
  "language_info": {
   "name": "python",
   "version": "3.10.6"
  },
  "orig_nbformat": 4,
  "vscode": {
   "interpreter": {
    "hash": "916dbcbb3f70747c44a77c7bcd40155683ae19c65e1c03b4aa3499c5328201f1"
   }
  }
 },
 "nbformat": 4,
 "nbformat_minor": 2
}
