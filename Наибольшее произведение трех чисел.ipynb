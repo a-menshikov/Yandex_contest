{
 "cells": [
  {
   "attachments": {},
   "cell_type": "markdown",
   "metadata": {},
   "source": [
    "Ограничение времени\t1 секунда   \n",
    "Ограничение памяти\t64Mb  \n",
    "\n",
    "Ввод\tстандартный ввод или input.txt  \n",
    "Вывод\tстандартный вывод или output.txt  \n",
    "\n",
    "В данном списке из n ≤ 105 целых чисел найдите три числа,произведение которых максимально.\n",
    "\n",
    "Решение должно иметь сложность O(n), где n - размер списка.\n",
    "\n",
    "Выведите три искомых числа в любом порядке."
   ]
  },
  {
   "cell_type": "code",
   "execution_count": null,
   "metadata": {},
   "outputs": [],
   "source": [
    "x = [int(i) for i in input().split()]\n",
    "m1 = m2 = m3 = -10**5 - 1\n",
    "n1 = n2 = 10**5 + 1\n",
    "for i in x:\n",
    "    if i > m1:\n",
    "        m1, m2, m3 = i, m1, m2\n",
    "    elif i > m2:\n",
    "        m2, m3 = i, m2\n",
    "    elif i > m3:\n",
    "        m3 = i\n",
    "    if i < n1:\n",
    "        n1, n2 = i, n1\n",
    "    elif i < n2:\n",
    "        n2 = i\n",
    "        \n",
    "if m1*m2*m3 > m1*n1*n2:\n",
    "    print(m1,m2,m3)\n",
    "else:\n",
    "    print(m1,n1,n2)"
   ]
  }
 ],
 "metadata": {
  "kernelspec": {
   "display_name": "venv",
   "language": "python",
   "name": "python3"
  },
  "language_info": {
   "name": "python",
   "version": "3.10.6"
  },
  "orig_nbformat": 4,
  "vscode": {
   "interpreter": {
    "hash": "e688ee72b1c52c0fb07e5f21353202736868602701a19717d3e26524e4041c77"
   }
  }
 },
 "nbformat": 4,
 "nbformat_minor": 2
}
