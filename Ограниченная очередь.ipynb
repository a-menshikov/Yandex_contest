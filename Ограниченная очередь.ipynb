{
 "cells": [
  {
   "attachments": {},
   "cell_type": "markdown",
   "metadata": {},
   "source": [
    "Ограничение времени\t0.3 секунды  \n",
    "Ограничение памяти\t64Mb  \n",
    "\n",
    "Ввод\tстандартный ввод или input.txt  \n",
    "Вывод\tстандартный вывод или output.txt  \n",
    "\n",
    "Астрологи объявили день очередей ограниченного размера. Тимофею нужно написать класс MyQueueSized, который принимает параметр max_size, означающий максимально допустимое количество элементов в очереди.\n",
    "\n",
    "Помогите ему —– реализуйте программу, которая будет эмулировать работу такой очереди. Функции, которые надо поддержать, описаны в формате ввода.\n",
    "\n",
    "Формат ввода  \n",
    "В первой строке записано одно число — количество команд, оно не превосходит 5000.\n",
    "Во второй строке задан максимально допустимый размер очереди, он не превосходит 5000.\n",
    "Далее идут команды по одной на строке. Команды могут быть следующих видов:\n",
    "\n",
    "push(x) — добавить число x в очередь;\n",
    "pop() — удалить число из очереди и вывести на печать;\n",
    "peek() — напечатать первое число в очереди;\n",
    "size() — вернуть размер очереди;\n",
    "При превышении допустимого размера очереди нужно вывести «error». При вызове операций pop() или peek() для пустой очереди нужно вывести «None».\n",
    "\n",
    "Формат вывода  \n",
    "Напечатайте результаты выполнения нужных команд, по одному на строке."
   ]
  },
  {
   "cell_type": "code",
   "execution_count": null,
   "metadata": {},
   "outputs": [],
   "source": [
    "class MyQueueSized:\n",
    "    def __init__(self, size):\n",
    "        self.queue = [None] * size\n",
    "        self.max_n = size\n",
    "        self.head = 0\n",
    "        self.tail = 0\n",
    "        self.size = 0\n",
    "\n",
    "    def is_empty(self):\n",
    "        return self.size == 0\n",
    "  \n",
    "    def push(self, x):\n",
    "        if self.size != self.max_n:\n",
    "            self.queue[self.tail] = x\n",
    "            self.tail = (self.tail + 1) % self.max_n\n",
    "            self.size += 1\n",
    "        else:\n",
    "            print('error')\n",
    "    \n",
    "    def pop(self):\n",
    "        if self.is_empty():\n",
    "            print('None')\n",
    "        else:\n",
    "            x = self.queue[self.head]\n",
    "            self.queue[self.head] = None\n",
    "            self.head = (self.head + 1) % self.max_n\n",
    "            self.size -= 1\n",
    "            print(x)\n",
    "\n",
    "counter_commands = int(input())\n",
    "size = int(input())\n",
    "queue = MyQueueSized(size)\n",
    "\n",
    "for i in range(counter_commands):\n",
    "    input_text = input().split()\n",
    "    if input_text[0] == 'peek':\n",
    "        print(queue.queue[queue.head])\n",
    "    elif input_text[0] == 'pop':\n",
    "        queue.pop()\n",
    "    elif input_text[0] == 'push':\n",
    "        queue.push(int(input_text[1]))\n",
    "    elif input_text[0] == 'size':\n",
    "        print(queue.size)"
   ]
  }
 ],
 "metadata": {
  "kernelspec": {
   "display_name": "Python 3",
   "language": "python",
   "name": "python3"
  },
  "language_info": {
   "codemirror_mode": {
    "name": "ipython",
    "version": 3
   },
   "file_extension": ".py",
   "mimetype": "text/x-python",
   "name": "python",
   "nbconvert_exporter": "python",
   "pygments_lexer": "ipython3",
   "version": "3.10.6"
  },
  "orig_nbformat": 4,
  "vscode": {
   "interpreter": {
    "hash": "916dbcbb3f70747c44a77c7bcd40155683ae19c65e1c03b4aa3499c5328201f1"
   }
  }
 },
 "nbformat": 4,
 "nbformat_minor": 2
}
