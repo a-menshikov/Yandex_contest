{
 "cells": [
  {
   "attachments": {},
   "cell_type": "markdown",
   "metadata": {},
   "source": [
    "Ограничение времени\t1 секунда  \n",
    "Ограничение памяти\t64Mb  \n",
    "Ввод\tстандартный ввод или input.txt  \n",
    "Вывод\tстандартный вывод или output.txt  \n",
    "\n",
    "По последовательности чисел во входных данных определите ее вид:\n",
    "\n",
    "CONSTANT – последовательность состоит из одинаковых значений\n",
    "ASCENDING – последовательность является строго возрастающей\n",
    "WEAKLY ASCENDING – последовательность является нестрого возрастающей\n",
    "DESCENDING – последовательность является строго убывающей\n",
    "WEAKLY DESCENDING – последовательность является нестрого убывающей\n",
    "RANDOM – последовательность не принадлежит ни к одному из вышеупомянутых типов\n",
    "Формат ввода  \n",
    "По одному на строке поступают числа последовательности ai, |ai| ≤ 109.\n",
    "\n",
    "Признаком окончания последовательности является число -2× 109. Оно в последовательность не входит.\n",
    "\n",
    "Формат вывода  \n",
    "В единственной строке выведите тип последовательности."
   ]
  },
  {
   "cell_type": "code",
   "execution_count": null,
   "metadata": {},
   "outputs": [],
   "source": [
    "options = {\n",
    "    'CONSTANT': True,\n",
    "    'ASCENDING': True,\n",
    "    'WEAKLY ASCENDING': True,\n",
    "    'DESCENDING': True,\n",
    "    'WEAKLY DESCENDING': True,\n",
    "}\n",
    "\n",
    "stop = -2*10**9\n",
    "prev_x = int(input())\n",
    "\n",
    "while True:\n",
    "    x = int(input())\n",
    "    if x == stop:\n",
    "        break\n",
    "    if x == prev_x:\n",
    "        if options['ASCENDING']:\n",
    "            options['ASCENDING'] = False\n",
    "        if options['DESCENDING']:\n",
    "            options['DESCENDING'] = False\n",
    "    elif x < prev_x:\n",
    "        if options['CONSTANT']:\n",
    "            options['CONSTANT'] = False\n",
    "        if options['WEAKLY ASCENDING']:\n",
    "            options['WEAKLY ASCENDING'] = False\n",
    "        if options['ASCENDING']:\n",
    "            options['ASCENDING'] = False\n",
    "    elif x > prev_x:\n",
    "        if options['CONSTANT']:\n",
    "            options['CONSTANT'] = False\n",
    "        if options['WEAKLY DESCENDING']:\n",
    "            options['WEAKLY DESCENDING'] = False\n",
    "        if options['DESCENDING']:\n",
    "            options['DESCENDING'] = False\n",
    "    prev_x = x\n",
    "\n",
    "if options['CONSTANT']:\n",
    "    print('CONSTANT')\n",
    "elif options['ASCENDING']:\n",
    "    print('ASCENDING')\n",
    "elif options['DESCENDING']:\n",
    "    print('DESCENDING')\n",
    "elif options['WEAKLY ASCENDING']:\n",
    "    print('WEAKLY ASCENDING')\n",
    "elif options['WEAKLY DESCENDING']:\n",
    "    print('WEAKLY DESCENDING')\n",
    "else:\n",
    "    print('RANDOM')"
   ]
  }
 ],
 "metadata": {
  "kernelspec": {
   "display_name": "Python 3",
   "language": "python",
   "name": "python3"
  },
  "language_info": {
   "codemirror_mode": {
    "name": "ipython",
    "version": 3
   },
   "file_extension": ".py",
   "mimetype": "text/x-python",
   "name": "python",
   "nbconvert_exporter": "python",
   "pygments_lexer": "ipython3",
   "version": "3.10.6"
  },
  "orig_nbformat": 4,
  "vscode": {
   "interpreter": {
    "hash": "916dbcbb3f70747c44a77c7bcd40155683ae19c65e1c03b4aa3499c5328201f1"
   }
  }
 },
 "nbformat": 4,
 "nbformat_minor": 2
}
