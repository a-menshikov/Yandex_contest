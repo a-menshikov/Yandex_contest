{
 "cells": [
  {
   "attachments": {},
   "cell_type": "markdown",
   "metadata": {},
   "source": [
    "Ограничение времени\t1 секунда  \n",
    "Ограничение памяти\t64Mb  \n",
    "\n",
    "Ввод\tстандартный ввод или input.txt  \n",
    "Вывод\tстандартный вывод или output.txt\n",
    "\n",
    "Даны длины сторон треугольника. Вычислите площадь треугольника.\n",
    "\n",
    "Формат ввода  \n",
    "Вводятся три положительных числа.\n",
    "\n",
    "Формат вывода  \n",
    "Выведите ответ на задачу."
   ]
  },
  {
   "cell_type": "code",
   "execution_count": null,
   "metadata": {},
   "outputs": [],
   "source": [
    "A, B, C = int(input()), int(input()), int(input())\n",
    "hp = (A+B+C)/2\n",
    "S = (hp*(hp-A)*(hp-B)*(hp-C))**0.5\n",
    "print(S)"
   ]
  }
 ],
 "metadata": {
  "language_info": {
   "name": "python"
  },
  "orig_nbformat": 4
 },
 "nbformat": 4,
 "nbformat_minor": 2
}
