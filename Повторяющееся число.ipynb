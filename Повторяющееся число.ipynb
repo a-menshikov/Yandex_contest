{
 "cells": [
  {
   "attachments": {},
   "cell_type": "markdown",
   "metadata": {},
   "source": [
    "Повторяющееся число\n",
    "\n",
    "Ограничение времени\t1 секунда  \n",
    "Ограничение памяти\t64Mb  \n",
    "\n",
    "Ввод\tстандартный ввод или input.txt  \n",
    "Вывод\tстандартный вывод или output.txt  \n",
    "\n",
    "Вам дана последовательность измерений некоторой величины. Требуется определить, повторялась ли какое-либо число, причём расстояние между повторами не превосходило k.\n",
    "\n",
    "Формат ввода  \n",
    "В первой строке задаются два числа n и k (1 ≤ n, k ≤ 105).  \n",
    "Во второй строке задаются n чисел, по модулю не превосходящих 109.\n",
    "\n",
    "Формат вывода  \n",
    "Выведите YES, если найдется повторяющееся число и расстояние между повторами не превосходит k и NO в противном случае."
   ]
  },
  {
   "cell_type": "code",
   "execution_count": null,
   "metadata": {},
   "outputs": [],
   "source": [
    "N, K = map(int, input().split())\n",
    "check = list(map(int, input().split()))\n",
    "\n",
    "positions = {}\n",
    "\n",
    "def check_list(check, N, K):\n",
    "    for i in range(N):\n",
    "        last_index = positions.get(check[i])\n",
    "        if last_index is not None:\n",
    "            if (i - last_index) <= K:\n",
    "                return'YES'\n",
    "            else:\n",
    "                positions[check[i]] = i\n",
    "        else:\n",
    "            positions[check[i]] = i\n",
    "    return 'NO'\n",
    "\n",
    "print(check_list(check, N, K))"
   ]
  }
 ],
 "metadata": {
  "language_info": {
   "name": "python"
  },
  "orig_nbformat": 4
 },
 "nbformat": 4,
 "nbformat_minor": 2
}
