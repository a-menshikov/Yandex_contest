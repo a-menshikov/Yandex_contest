{
 "cells": [
  {
   "attachments": {},
   "cell_type": "markdown",
   "metadata": {},
   "source": [
    "Ограничение времени\t0.12 секунды  \n",
    "Ограничение памяти\t64Mb  \n",
    "\n",
    "Ввод\tстандартный ввод или input.txt  \n",
    "Вывод\tстандартный вывод или output.txt \n",
    "\n",
    "Тимофей решил купить несколько домов на знаменитом среди разработчиков Алгосском архипелаге. Он нашёл n объявлений о продаже, где указана стоимость каждого дома в алгосских франках. А у Тимофея есть k франков. Помогите ему определить, какое наибольшее количество домов на Алгосах он сможет приобрести за эти деньги.\n",
    "\n",
    "Формат ввода  \n",
    "В первой строке через пробел записаны натуральные числа n и k.\n",
    "\n",
    "n — количество домов, которые рассматривает Тимофей, оно не превосходит 100000;\n",
    "\n",
    "k — общий бюджет, не превосходит 100000;\n",
    "\n",
    "В следующей строке через пробел записано n стоимостей домов. Каждое из чисел не превосходит 100000. Все стоимости — натуральные числа.\n",
    "\n",
    "Формат вывода  \n",
    "Выведите одно число —– наибольшее количество домов, которое может купить Тимофей."
   ]
  },
  {
   "cell_type": "code",
   "execution_count": null,
   "metadata": {},
   "outputs": [],
   "source": [
    "n, k = map(int, input().split())\n",
    "prices = sorted(list(map(int, input().split())))\n",
    "counter = 0\n",
    "\n",
    "for i in prices:\n",
    "    if k - i >= 0:\n",
    "        counter += 1\n",
    "        k -= i\n",
    "    else:\n",
    "        break\n",
    "\n",
    "print(counter)"
   ]
  }
 ],
 "metadata": {
  "kernelspec": {
   "display_name": "Python 3",
   "language": "python",
   "name": "python3"
  },
  "language_info": {
   "codemirror_mode": {
    "name": "ipython",
    "version": 3
   },
   "file_extension": ".py",
   "mimetype": "text/x-python",
   "name": "python",
   "nbconvert_exporter": "python",
   "pygments_lexer": "ipython3",
   "version": "3.10.6"
  },
  "orig_nbformat": 4
 },
 "nbformat": 4,
 "nbformat_minor": 2
}
