{
 "cells": [
  {
   "attachments": {},
   "cell_type": "markdown",
   "metadata": {},
   "source": [
    "Ограничение времени\t0.65 секунды  \n",
    "Ограничение памяти\t64Mb  \n",
    "\n",
    "Ввод\tстандартный ввод или input.txt  \n",
    "Вывод\tстандартный вывод или output.txt \n",
    "\n",
    "Алле очень понравился алгоритм вычисления полиномиального хеша. Помогите ей написать функцию, вычисляющую хеш строки s. В данной задаче необходимо использовать в качестве значений отдельных символов их коды в таблице ASCII.\n",
    "\n",
    "Полиномиальный хеш считается по формуле (x - умножение, ^ - возведение в степень):  \n",
    "\n",
    "h(s) = (s_1 x a^n-1 + s_2 x a^n-1 + ... + s_n-1 x a + s_n) mod m\n",
    "\n",
    "Формат ввода\n",
    "В первой строке дано число a (1 ≤ a ≤ 1000) –— основание, по которому считается хеш.\n",
    "\n",
    "Во второй строке дано число m (1 ≤ m ≤ 109) –— модуль.\n",
    "\n",
    "В третьей строке дана строка s (0 ≤ |s| ≤ 106), состоящая из больших и маленьких латинских букв.\n",
    "\n",
    "Формат вывода\n",
    "Выведите целое неотрицательное число –— хеш заданной строки."
   ]
  },
  {
   "cell_type": "code",
   "execution_count": null,
   "metadata": {},
   "outputs": [],
   "source": [
    "a = int(input())\n",
    "m = int(input())\n",
    "s = input()\n",
    "\n",
    "def hash(s: str, a:int, m:int):\n",
    "    hash = 0\n",
    "    len_string = len(s)\n",
    "    step_a = 1\n",
    "    for i in s:\n",
    "        hash = (hash + ord(i)*step_a) % m\n",
    "        step_a = (step_a * a) % m\n",
    "    return hash % m\n",
    "\n",
    "print(hash(s[::-1], a, m))"
   ]
  }
 ],
 "metadata": {
  "kernelspec": {
   "display_name": "Python 3",
   "language": "python",
   "name": "python3"
  },
  "language_info": {
   "codemirror_mode": {
    "name": "ipython",
    "version": 3
   },
   "file_extension": ".py",
   "mimetype": "text/x-python",
   "name": "python",
   "nbconvert_exporter": "python",
   "pygments_lexer": "ipython3",
   "version": "3.10.6"
  },
  "orig_nbformat": 4
 },
 "nbformat": 4,
 "nbformat_minor": 2
}
