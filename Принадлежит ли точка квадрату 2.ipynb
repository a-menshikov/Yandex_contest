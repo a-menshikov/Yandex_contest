{
 "cells": [
  {
   "attachments": {},
   "cell_type": "markdown",
   "metadata": {},
   "source": [
    "Принадлежит ли точка квадрату - 2\n",
    "\n",
    "Даны два действительных числа x и y. Проверьте, принадлежит ли точка с координатами (x,y) заштрихованному квадрату (включая его границу). Если точка принадлежит квадрату, выведите слово YES, иначе выведите слово NO. На рисунке сетка проведена с шагом 1.\n",
    "\n",
    "Вершины квадрата [(-1,0),(0,1),(1,0),(0,-1)]\n",
    "\n",
    "Решение должно содержать функцию IsPointInSquare(x, y), возвращающую True, если точка принадлежит квадрату и False, если не принадлежит. Основная программа должна считать координаты точки, вызвать функцию IsPointInSquare и в зависимости от возвращенного значения вывести на экран необходимое сообщение.\n",
    "\n",
    "Функция IsPointInSquare не должна содержать инструкцию if."
   ]
  },
  {
   "cell_type": "code",
   "execution_count": null,
   "metadata": {},
   "outputs": [],
   "source": [
    "x, y= float(input()), float(input())\n",
    "def IsPointInSquare(x, y):\n",
    "    sum_coord = abs(x) + abs(y)\n",
    "    return sum_coord <= 1\n",
    "\n",
    "result = ('NO','YES')\n",
    "print(result[int(IsPointInSquare(x, y))])"
   ]
  }
 ],
 "metadata": {
  "language_info": {
   "name": "python"
  },
  "orig_nbformat": 4
 },
 "nbformat": 4,
 "nbformat_minor": 2
}
