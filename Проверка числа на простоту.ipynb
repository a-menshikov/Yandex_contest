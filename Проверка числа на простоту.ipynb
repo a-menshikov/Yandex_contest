{
 "cells": [
  {
   "attachments": {},
   "cell_type": "markdown",
   "metadata": {},
   "source": [
    "Проверка числа на простоту\n",
    "\n",
    "Дано натуральное число n>1. Проверьте, является ли оно простым. Программа должна вывести слово YES, если число простое и NO, если число составное. Решение оформите в виде функции IsPrime(n), которая возвращает True для простых чисел и False для составных чисел. Решение должно иметь сложность O(sqrt(n)).\n",
    "\n",
    "Формат ввода  \n",
    "Вводится натуральное число.\n",
    "\n",
    "Формат вывода  \n",
    "Выведите ответ на задачу."
   ]
  },
  {
   "cell_type": "code",
   "execution_count": null,
   "metadata": {},
   "outputs": [],
   "source": [
    "x = int(input())\n",
    "def IsPrime(x):\n",
    "    if x%2 == 0 and x != 2:\n",
    "        return 'NO'\n",
    "    for i in range(2, int(x**0.5)+1):\n",
    "        if x%i == 0:\n",
    "            return 'NO'\n",
    "    return 'YES'\n",
    "print(IsPrime(x))"
   ]
  }
 ],
 "metadata": {
  "language_info": {
   "name": "python"
  },
  "orig_nbformat": 4
 },
 "nbformat": 4,
 "nbformat_minor": 2
}
