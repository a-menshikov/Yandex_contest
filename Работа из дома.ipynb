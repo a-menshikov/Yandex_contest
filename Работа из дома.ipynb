{
 "cells": [
  {
   "attachments": {},
   "cell_type": "markdown",
   "metadata": {},
   "source": [
    "Ограничение времени\t1 секунда\n",
    "Ограничение памяти\t64Mb\n",
    "\n",
    "Ввод\tстандартный ввод или input.txt\n",
    "Вывод\tстандартный вывод или output.txt\n",
    "\n",
    "Вася реализовал функцию, которая переводит целое число из десятичной системы в двоичную. Но, кажется, она получилась не очень оптимальной.\n",
    "\n",
    "Попробуйте написать более эффективную программу.\n",
    "\n",
    "Не используйте встроенные средства языка по переводу чисел в бинарное представление.\n",
    "\n",
    "Формат ввода\n",
    "На вход подаётся целое число в диапазоне от 0 до 10000.\n",
    "\n",
    "Формат вывода\n",
    "Выведите двоичное представление этого числа."
   ]
  },
  {
   "cell_type": "code",
   "execution_count": null,
   "metadata": {},
   "outputs": [],
   "source": [
    "def to_binary(number: int) -> str:\n",
    "    answer = []\n",
    "    if number == 0:\n",
    "        return 0\n",
    "    else:\n",
    "        while number != 1:\n",
    "            answer.insert(0, number%2)\n",
    "            number = number//2\n",
    "        answer.insert(0, number%2)\n",
    "        return ''.join(map(str, answer))\n",
    "\n",
    "def read_input() -> int:\n",
    "    return int(input().strip())\n",
    "\n",
    "print(to_binary(read_input()))"
   ]
  }
 ],
 "metadata": {
  "kernelspec": {
   "display_name": "Python 3",
   "language": "python",
   "name": "python3"
  },
  "language_info": {
   "codemirror_mode": {
    "name": "ipython",
    "version": 3
   },
   "file_extension": ".py",
   "mimetype": "text/x-python",
   "name": "python",
   "nbconvert_exporter": "python",
   "pygments_lexer": "ipython3",
   "version": "3.10.6"
  },
  "orig_nbformat": 4,
  "vscode": {
   "interpreter": {
    "hash": "916dbcbb3f70747c44a77c7bcd40155683ae19c65e1c03b4aa3499c5328201f1"
   }
  }
 },
 "nbformat": 4,
 "nbformat_minor": 2
}
