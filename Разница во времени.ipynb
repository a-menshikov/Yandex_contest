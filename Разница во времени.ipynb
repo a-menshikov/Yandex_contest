{
 "cells": [
  {
   "attachments": {},
   "cell_type": "markdown",
   "metadata": {},
   "source": [
    "Разница во времени\n",
    "\n",
    "Ограничение времени\t1 секунда  \n",
    "Ограничение памяти\t64Mb  \n",
    "\n",
    "Ввод\tстандартный ввод или input.txt  \n",
    "Вывод\tстандартный вывод или output.txt  \n",
    "\n",
    "Каждые сутки на вокзал прибывает n электричек. По заданному расписанию прибытия электричек определите минимальное время между прибытием двух разных электричек.\n",
    "\n",
    "Формат ввода  \n",
    "В первой строке задано число n (1 ≤ n ≤ 2 × 104) — количество электричек.  \n",
    "Во второй строке задано n моментов времени в формате HH:MM (0 ≤ HH ≤ 23, 0 ≤ MM ≤ 59) через пробел.\n",
    "\n",
    "Формат вывода  \n",
    "Выведите одно число — минимальное время в минутах между прибытием двух электричек."
   ]
  },
  {
   "cell_type": "code",
   "execution_count": null,
   "metadata": {},
   "outputs": [],
   "source": [
    "from itertools import pairwise\n",
    "\n",
    "count_trains = int(input())\n",
    "time_trains = input().split()\n",
    "\n",
    "time_in_mins = []\n",
    "\n",
    "for i in time_trains:\n",
    "    z = list(map(int,i.split(':')))\n",
    "    if z[0] == 0:\n",
    "        hours = 24\n",
    "    else:\n",
    "        hours = z[0] \n",
    "    mins = z[1]\n",
    "    time_in_mins.append(hours*60 + mins)\n",
    "\n",
    "diffs = sorted([f-h for (h, f) in pairwise(sorted(time_in_mins))])\n",
    "\n",
    "if not diffs:\n",
    "    print('1440')\n",
    "else:\n",
    "    print(diffs[0])"
   ]
  }
 ],
 "metadata": {
  "language_info": {
   "name": "python"
  },
  "orig_nbformat": 4
 },
 "nbformat": 4,
 "nbformat_minor": 2
}
