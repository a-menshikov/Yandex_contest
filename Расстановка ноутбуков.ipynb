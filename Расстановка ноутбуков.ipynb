{
 "cells": [
  {
   "attachments": {},
   "cell_type": "markdown",
   "metadata": {},
   "source": [
    "Ограничение времени\t1 секунда  \n",
    "Ограничение памяти\t64Mb  \n",
    "\n",
    "Ввод\tстандартный ввод или input.txt  \n",
    "Вывод\tстандартный вывод или output.txt  \n",
    "\n",
    "В школе решили на один прямоугольный стол поставить два прямоугольных ноутбука. Ноутбуки нужно поставить так, чтобы их стороны были параллельны сторонам стола. Определите, какие размеры должен иметь стол, чтобы оба ноутбука на него поместились, и площадь стола была минимальна.\n",
    "\n",
    "Формат ввода  \n",
    "Вводится четыре натуральных числа, первые два задают размеры одного ноутбука, а следующие два — размеры второго. Числа не превышают 1000.\n",
    "\n",
    "Формат вывода  \n",
    "Выведите два числа — размеры стола. Если возможно несколько ответов, выведите любой из них (но только один)."
   ]
  },
  {
   "cell_type": "code",
   "execution_count": 15,
   "metadata": {},
   "outputs": [
    {
     "name": "stdout",
     "output_type": "stream",
     "text": [
      "[(0, 0, 0, 1), (0, 0, 0, 2), (0, 0, 0, 3), (0, 0, 0, 4)]\n",
      "1 0 0\n"
     ]
    }
   ],
   "source": [
    "n1, m1, n2, m2 = map(int, input().split())\n",
    "\n",
    "def sq1(n1, m1, n2, m2):\n",
    "    tm = max(n1, m1) + max(n2, m2)\n",
    "    tn = max(min(n1, m1), min(n2, m2))\n",
    "    return (tn, tm, tn*tm, 1)\n",
    "\n",
    "def sq2(n1, m1, n2, m2):\n",
    "    tm = min(n1, m1) + min(n2, m2)\n",
    "    tn = max(max(n1, m1), max(n2, m2))\n",
    "    return (tn, tm, tn*tm, 2)\n",
    "\n",
    "def sq3(n1, m1, n2, m2):\n",
    "    tm = max(n1, m1) + min(n2, m2)\n",
    "    tn = max(min(n1, m1), max(n2, m2))\n",
    "    return (tn, tm, tn*tm, 3)\n",
    "\n",
    "def sq4(n1, m1, n2, m2):\n",
    "    tm = min(n1, m1) + max(n2, m2)\n",
    "    tn = max(max(n1, m1), min(n2, m2))\n",
    "    return (tn, tm, tn*tm, 4)\n",
    "\n",
    "vars = []\n",
    "\n",
    "for i in (sq1, sq2, sq3, sq4):\n",
    "    x = i(n1, m1, n2, m2)\n",
    "    vars.append(x)\n",
    "\n",
    "vars = sorted(vars, key=lambda y: y[2])\n",
    "\n",
    "print(vars[0][0], vars[0][1])"
   ]
  }
 ],
 "metadata": {
  "kernelspec": {
   "display_name": "Python 3",
   "language": "python",
   "name": "python3"
  },
  "language_info": {
   "codemirror_mode": {
    "name": "ipython",
    "version": 3
   },
   "file_extension": ".py",
   "mimetype": "text/x-python",
   "name": "python",
   "nbconvert_exporter": "python",
   "pygments_lexer": "ipython3",
   "version": "3.10.6"
  },
  "orig_nbformat": 4,
  "vscode": {
   "interpreter": {
    "hash": "916dbcbb3f70747c44a77c7bcd40155683ae19c65e1c03b4aa3499c5328201f1"
   }
  }
 },
 "nbformat": 4,
 "nbformat_minor": 2
}
