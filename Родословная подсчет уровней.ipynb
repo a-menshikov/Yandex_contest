{
 "cells": [
  {
   "attachments": {},
   "cell_type": "markdown",
   "metadata": {},
   "source": [
    "Родословная: подсчет уровней\n",
    "\n",
    "В генеалогическом древе у каждого человека, кроме родоначальника, есть ровно один родитель. Каждом элементу дерева сопоставляется целое неотрицательное число, называемое высотой. У родоначальника высота равна 0, у любого другого элемента высота на 1 больше, чем у его родителя. Вам дано генеалогическое древо, определите высоту всех его элементов.\n",
    "\n",
    "Формат ввода  \n",
    "Программа получает на вход число элементов в генеалогическом древе N. Далее следует N-1 строка, задающие родителя для каждого элемента древа, кроме родоначальника. Каждая строка имеет вид имя_потомка имя_родителя.\n",
    "\n",
    "Формат вывода  \n",
    "Программа должна вывести список всех элементов древа в лексикографическом порядке. После вывода имени каждого элемента необходимо вывести его высоту."
   ]
  },
  {
   "cell_type": "code",
   "execution_count": null,
   "metadata": {},
   "outputs": [],
   "source": [
    "file = open(\"input.txt\", \"r\", encoding='utf-8')\n",
    "x = file.readlines()\n",
    "strings = int(x[0])\n",
    "pares = {}\n",
    "rangs = {}\n",
    "\n",
    "for line in x[1:strings+1]:\n",
    "    child, parent = line.split()\n",
    "    pares[child] = parent\n",
    "    rangs.setdefault(child, 0)\n",
    "    rangs.setdefault(parent, 0)\n",
    "\n",
    "for person in pares.keys():\n",
    "    point = person\n",
    "    while point in pares.keys():\n",
    "        point = pares[point]\n",
    "        rangs[person] += 1\n",
    "\n",
    "for i in sorted(rangs.items()):\n",
    "    print(f'{i[0]} {i[1]}')"
   ]
  }
 ],
 "metadata": {
  "language_info": {
   "name": "python"
  },
  "orig_nbformat": 4
 },
 "nbformat": 4,
 "nbformat_minor": 2
}
