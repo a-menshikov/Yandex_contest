{
 "cells": [
  {
   "attachments": {},
   "cell_type": "markdown",
   "metadata": {},
   "source": [
    "Ограничение времени\t1 секунда  \n",
    "Ограничение памяти\t64Mb  \n",
    "\n",
    "Ввод\tстандартный ввод или input.txt  \n",
    "Вывод\tстандартный вывод или output.txt  \n",
    "\n",
    "Чтобы подготовиться к семинару, Гоше надо прочитать статью по эффективному менеджменту. Так как Гоша хочет спланировать день заранее, ему необходимо оценить сложность статьи.\n",
    "\n",
    "Он придумал такой метод оценки: берётся случайное предложение из текста и в нём ищется самое длинное слово. Его длина и будет условной сложностью статьи.\n",
    "\n",
    "Помогите Гоше справиться с этой задачей.\n",
    "\n",
    "Формат ввода  \n",
    "В первой строке дана длина текста L (1 ≤ L ≤ 105).\n",
    "\n",
    "В следующей строке записан текст, состоящий из строчных латинских букв и пробелов. Слово —– последовательность букв, не разделённых пробелами. Пробелы могут стоять в самом начале строки и в самом её конце. Текст заканчивается переносом строки, этот символ не включается в число остальных L символов.\n",
    "\n",
    "Формат вывода  \n",
    "В первой строке выведите самое длинное слово. Во второй строке выведите его длину. Если подходящих слов несколько, выведите то, которое встречается раньше."
   ]
  },
  {
   "cell_type": "code",
   "execution_count": 6,
   "metadata": {},
   "outputs": [
    {
     "name": "stdout",
     "output_type": "stream",
     "text": [
      "jumps\n",
      "5\n"
     ]
    }
   ],
   "source": [
    "def get_longest_word(n:int, line: str) -> str:\n",
    "    size = n - line.count(' ')\n",
    "    words = line.split()\n",
    "    longest = ''\n",
    "    len_longest = 0\n",
    "    for i in words:\n",
    "        if size < len_longest:\n",
    "            return longest, str(len_longest)\n",
    "        if len(i) > len_longest:\n",
    "            longest = i\n",
    "            len_longest = len(i)\n",
    "        size -= len(i)\n",
    "    return longest, str(len_longest)\n",
    "\n",
    "def read_input() -> tuple:\n",
    "    n = int(input())\n",
    "    line = input().strip()\n",
    "    return n, line\n",
    "\n",
    "def print_result(result: tuple) -> None:\n",
    "    print('\\n'.join(result))\n",
    "\n",
    "n, line = read_input()\n",
    "print_result(get_longest_word(n, line))"
   ]
  }
 ],
 "metadata": {
  "kernelspec": {
   "display_name": "Python 3",
   "language": "python",
   "name": "python3"
  },
  "language_info": {
   "codemirror_mode": {
    "name": "ipython",
    "version": 3
   },
   "file_extension": ".py",
   "mimetype": "text/x-python",
   "name": "python",
   "nbconvert_exporter": "python",
   "pygments_lexer": "ipython3",
   "version": "3.10.6"
  },
  "orig_nbformat": 4,
  "vscode": {
   "interpreter": {
    "hash": "916dbcbb3f70747c44a77c7bcd40155683ae19c65e1c03b4aa3499c5328201f1"
   }
  }
 },
 "nbformat": 4,
 "nbformat_minor": 2
}
