{
 "cells": [
  {
   "attachments": {},
   "cell_type": "markdown",
   "metadata": {},
   "source": [
    "Ограничение времени\t1 секунда  \n",
    "Ограничение памяти\t64Mb  \n",
    "\n",
    "Ввод\tстандартный ввод или input.txt  \n",
    "Вывод\tстандартный вывод или output.txt  \n",
    "\n",
    "Вам необходимо построить поле для игры \"Сапер\" по его конфигурации – размерам и координатам расставленных на нем мин.\n",
    "\n",
    "Вкратце напомним правила построения поля для игры \"Сапер\":\n",
    "\n",
    "Поле состоит из клеток с минами и пустых клеток\n",
    "Клетки с миной обозначаются символом *\n",
    "Пустые клетки содержат число ki,j, 0≤ ki, j ≤ 8 – количество мин на соседних клетках. Соседними клетками являются восемь клеток, имеющих смежный угол или сторону.\n",
    "\n",
    "Формат ввода  \n",
    "В первой строке содержатся три числа: N, 1 ≤ N ≤ 100 - количество строк на поле, M, 1 ≤ M ≤ 100 - количество столбцов на поле, K, 0 ≤ K ≤ N ⋅ M - количество мин на поле.\n",
    "\n",
    "В следующих K строках содержатся по два числа с координатами мин: p, 1 ≤ p ≤ N - номер строки мины, q, 1 ≤ 1 ≤ M - номер столбца мины.\n",
    "\n",
    "Формат вывода  \n",
    "Выведите построенное поле, разделяя строки поля переводом строки, а столбцы - пробелом."
   ]
  },
  {
   "cell_type": "code",
   "execution_count": null,
   "metadata": {},
   "outputs": [],
   "source": [
    "lins, cols, cnt_mines = map(int, input().split())\n",
    "field = [[0]*cols for _ in range (lins)]\n",
    "\n",
    "def update_field(lin, col):\n",
    "    coords = [\n",
    "        (lin-1,col-1),\n",
    "        (lin-1, col),\n",
    "        (lin-1, col+1),\n",
    "        (lin, col-1),\n",
    "        (lin, col+1),\n",
    "        (lin+1,col-1),\n",
    "        (lin+1, col),\n",
    "        (lin+1, col+1),\n",
    "    ]\n",
    "    for i,j in coords:\n",
    "        if i < 0 or j < 0 or i > lins-1 or j > cols-1:\n",
    "            continue\n",
    "        if field[i][j] == '*':\n",
    "            continue\n",
    "        field[i][j] += 1\n",
    "\n",
    "\n",
    "for i in range(0, cnt_mines):\n",
    "    lin, col = map(int, input().split())\n",
    "    field[lin-1][col-1] = '*'\n",
    "    update_field(lin-1, col-1)\n",
    "\n",
    "\n",
    "for i in field:\n",
    "    print(*i)"
   ]
  }
 ],
 "metadata": {
  "kernelspec": {
   "display_name": "Python 3",
   "language": "python",
   "name": "python3"
  },
  "language_info": {
   "codemirror_mode": {
    "name": "ipython",
    "version": 3
   },
   "file_extension": ".py",
   "mimetype": "text/x-python",
   "name": "python",
   "nbconvert_exporter": "python",
   "pygments_lexer": "ipython3",
   "version": "3.10.6"
  },
  "orig_nbformat": 4,
  "vscode": {
   "interpreter": {
    "hash": "916dbcbb3f70747c44a77c7bcd40155683ae19c65e1c03b4aa3499c5328201f1"
   }
  }
 },
 "nbformat": 4,
 "nbformat_minor": 2
}
