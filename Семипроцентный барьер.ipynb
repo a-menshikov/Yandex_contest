{
 "cells": [
  {
   "attachments": {},
   "cell_type": "markdown",
   "metadata": {},
   "source": [
    "Семипроцентный барьер\n",
    "\n",
    "В Государственную Думу Федерального Собрания Российской Федерации выборы производятся по партийным спискам. Каждый избиратель указывает одну партию, за которую он отдает свой голос. В Государственную Думу попадают партии, которые набрали не менее 7% от числа голосов избирателей.\n",
    "\n",
    "Дан список партий и список голосов избирателей. Выведите список партий, которые попадут в Государственную Думу.\n",
    "\n",
    "Формат ввода  \n",
    "В первой строке входного файла написано слово PARTIES:. Далее идет список партий, участвующих в выборах.\n",
    "\n",
    "Затем идет строка, содержащая слово VOTES:. За ним идут названия партий, за которые проголосовали избиратели, по одному названию в строке. Названия могут быть только строками из первого списка.\n",
    "\n",
    "Формат вывода  \n",
    "Программа должна вывести названия партий, получивших не менее 7% от числа голосов в том порядке, в котором они следуют в первом списке."
   ]
  },
  {
   "cell_type": "code",
   "execution_count": null,
   "metadata": {},
   "outputs": [],
   "source": [
    "file1 = open(\"input.txt\", \"r\", encoding='utf-8')\n",
    "parties = False\n",
    "votes = False\n",
    "electors = 0\n",
    "election = {}\n",
    "\n",
    "while True:\n",
    "    line = file1.readline()\n",
    "    if not line:\n",
    "        break\n",
    "    if 'PARTIES' in line:\n",
    "        parties = True\n",
    "        continue\n",
    "    if 'VOTES' in line:\n",
    "        parties = False\n",
    "        votes = True\n",
    "        continue\n",
    "    if parties is True:\n",
    "        election[line.strip()] = 0\n",
    "    if votes is True:\n",
    "        election[line.strip()] += 1\n",
    "        electors += 1\n",
    "\n",
    "for i in election:\n",
    "    election[i] /= electors\n",
    "\n",
    "print('\\n'.join([i for i in election if election[i]>=0.07]))"
   ]
  }
 ],
 "metadata": {
  "language_info": {
   "name": "python"
  },
  "orig_nbformat": 4
 },
 "nbformat": 4,
 "nbformat_minor": 2
}
