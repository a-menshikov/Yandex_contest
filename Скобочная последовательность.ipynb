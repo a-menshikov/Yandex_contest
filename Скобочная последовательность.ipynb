{
 "cells": [
  {
   "cell_type": "markdown",
   "metadata": {},
   "source": [
    "Ограничение времени 1 секунда  \n",
    "Ограничение памяти 64Mb  \n",
    "\n",
    "Ввод стандартный ввод или input.txt  \n",
    "Вывод стандартный вывод или output.txt  \n",
    "\n",
    "Вот какую задачу Тимофей предложил на собеседовании одному из кандидатов. Если вы с ней ещё не сталкивались, то наверняка столкнётесь –— она довольно популярная.\n",
    "\n",
    "Дана скобочная последовательность. Нужно определить, правильная ли она.\n",
    "\n",
    "Будем придерживаться такого определения:\n",
    "\n",
    "пустая строка —– правильная скобочная последовательность;\n",
    "правильная скобочная последовательность, взятая в скобки одного типа, –— правильная скобочная последовательность;\n",
    "правильная скобочная последовательность с приписанной слева или справа правильной скобочной последовательностью —– тоже правильная.\n",
    "На вход подаётся последовательность из скобок трёх видов: [], (), {}.\n",
    "Напишите функцию is_correct_bracket_seq, которая принимает на вход скобочную последовательность и возвращает True, если последовательность правильная, а иначе False.\n",
    "\n",
    "Формат ввода\n",
    "На вход подаётся одна строка, содержащая скобочную последовательность. Скобки записаны подряд, без пробелов.\n",
    "\n",
    "Формат вывода\n",
    "Выведите «True» или «False»."
   ]
  },
  {
   "cell_type": "code",
   "execution_count": null,
   "metadata": {},
   "outputs": [],
   "source": [
    "def is_correct_bracket_seq(check_string):\n",
    "    if not len(check_string):\n",
    "        return True\n",
    "    if len(check_string) % 2:\n",
    "        return False\n",
    "    etalon = {\n",
    "        ')': '(',\n",
    "        '}': '{',\n",
    "        ']': '[',\n",
    "    }\n",
    "    stack = []\n",
    "    for i in check_string:\n",
    "        if i in etalon.values():\n",
    "            stack.append(i)\n",
    "            continue\n",
    "        if len(stack) and etalon[i] == stack[-1]:\n",
    "            stack.pop()\n",
    "            continue\n",
    "        return False\n",
    "    if not len(stack):\n",
    "        return True\n",
    "    return False\n",
    "\n",
    "check_string = input()\n",
    "print(is_correct_bracket_seq(check_string))"
   ]
  }
 ],
 "metadata": {
  "kernelspec": {
   "display_name": "Python 3",
   "language": "python",
   "name": "python3"
  },
  "language_info": {
   "codemirror_mode": {
    "name": "ipython",
    "version": 3
   },
   "file_extension": ".py",
   "mimetype": "text/x-python",
   "name": "python",
   "nbconvert_exporter": "python",
   "pygments_lexer": "ipython3",
   "version": "3.10.6"
  },
  "orig_nbformat": 4,
  "vscode": {
   "interpreter": {
    "hash": "916dbcbb3f70747c44a77c7bcd40155683ae19c65e1c03b4aa3499c5328201f1"
   }
  }
 },
 "nbformat": 4,
 "nbformat_minor": 2
}
