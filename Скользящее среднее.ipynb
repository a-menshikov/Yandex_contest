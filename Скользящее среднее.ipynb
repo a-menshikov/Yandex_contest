{
 "cells": [
  {
   "attachments": {},
   "cell_type": "markdown",
   "metadata": {},
   "source": [
    "Ограничение времени\t1 секунда\n",
    "Ограничение памяти\t64Mb\n",
    "\n",
    "Ввод\tстандартный ввод или input.txt\n",
    "Вывод\tстандартный вывод или output.txt\n",
    "\n",
    "Вам дана статистика по числу запросов в секунду к вашему любимому рекомендательному сервису.\n",
    "\n",
    "Измерения велись n секунд.\n",
    "\n",
    "В секунду i поступает qi запросов.\n",
    "\n",
    "Примените метод скользящего среднего с длиной окна k к этим данным и выведите результат.\n",
    "\n",
    "Формат ввода\n",
    "В первой строке передаётся натуральное число n, количество секунд, в течение которых велись измерения. 1 ≤ n ≤ 105\n",
    "\n",
    "Во второй строке через пробел записаны n целых неотрицательных чисел qi, каждое лежит в диапазоне от 0 до 103.\n",
    "\n",
    "В третьей строке записано натуральное число k (1 ≤ k ≤ n) —– окно сглаживания.\n",
    "\n",
    "Формат вывода\n",
    "Выведите через пробел результат применения метода скользящего среднего к серии измерений. Должно быть выведено n - k + 1 элементов, каждый элемент -— вещественное (дробное) число."
   ]
  },
  {
   "cell_type": "code",
   "execution_count": null,
   "metadata": {},
   "outputs": [],
   "source": [
    "from typing import List, Tuple\n",
    "\n",
    "def moving_average(arr: List[int], window_size: int) -> List[float]:\n",
    "    result = []\n",
    "    current_sum = sum(arr[0:window_size])\n",
    "    result.append(current_sum / window_size)\n",
    "    for i in range(0, len(arr) - window_size):\n",
    "        current_sum -= arr[i]\n",
    "        current_sum += arr[i+window_size]\n",
    "        current_avg = current_sum / window_size\n",
    "        result.append(current_avg)\n",
    "    return result\n",
    "\n",
    "def read_input() -> Tuple[List[int], int]:\n",
    "    n = int(input())\n",
    "    arr = list(map(int, input().strip().split()))\n",
    "    window_size = int(input())\n",
    "    return arr, window_size\n",
    "\n",
    "arr, window_size = read_input()\n",
    "print(\" \".join(map(str, moving_average(arr, window_size))))"
   ]
  }
 ],
 "metadata": {
  "kernelspec": {
   "display_name": "Python 3",
   "language": "python",
   "name": "python3"
  },
  "language_info": {
   "name": "python",
   "version": "3.10.6"
  },
  "orig_nbformat": 4,
  "vscode": {
   "interpreter": {
    "hash": "916dbcbb3f70747c44a77c7bcd40155683ae19c65e1c03b4aa3499c5328201f1"
   }
  }
 },
 "nbformat": 4,
 "nbformat_minor": 2
}
