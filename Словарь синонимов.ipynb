{
 "cells": [
  {
   "attachments": {},
   "cell_type": "markdown",
   "metadata": {},
   "source": [
    "Словарь синонимов\n",
    "\n",
    "Вам дан словарь, состоящий из пар слов. Каждое слово является синонимом к парному ему слову. Все слова в словаре различны. Для одного данного слова определите его синоним.\n",
    "\n",
    "Формат ввода  \n",
    "Программа получает на вход количество пар синонимов N. Далее следует N строк, каждая строка содержит ровно два слова-синонима. После этого следует одно слово.\n",
    "\n",
    "Формат вывода  \n",
    "Программа должна вывести синоним к данному слову. Примечание\n",
    "\n",
    "Эту задачу можно решить и без словарей (сохранив все входные данные в списке), но решение со словарем будет более простым."
   ]
  },
  {
   "cell_type": "code",
   "execution_count": null,
   "metadata": {},
   "outputs": [],
   "source": [
    "file = open(\"input.txt\", \"r\", encoding='utf-8')\n",
    "x = file.readlines()\n",
    "pares = int(x[0])\n",
    "sin_dict = {}\n",
    "for line in x[1:pares+1]:\n",
    "    k,v = line.split()\n",
    "    sin_dict[k] = v\n",
    "    sin_dict[v] = k\n",
    "\n",
    "print(sin_dict.get(x[pares+1].strip()))"
   ]
  }
 ],
 "metadata": {
  "language_info": {
   "name": "python"
  },
  "orig_nbformat": 4
 },
 "nbformat": 4,
 "nbformat_minor": 2
}
