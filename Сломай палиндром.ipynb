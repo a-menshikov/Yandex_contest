{
 "cells": [
  {
   "attachments": {},
   "cell_type": "markdown",
   "metadata": {},
   "source": [
    "Сломай палиндром\n",
    "\n",
    "Ограничение времени\t1 секунда  \n",
    "Ограничение памяти\t64Mb  \n",
    "\n",
    "Ввод\tстандартный ввод или input.txt  \n",
    "Вывод\tстандартный вывод или output.txt  \n",
    "\n",
    "Палиндромом называется строка, которая читается одинаково слева-направо и справа-налево.\n",
    "\n",
    "В заданной строке-палиндроме необходимо заменить один символ, чтобы она перестала быть палиндромом. При этом полученная строка должна быть лексикографически минимальной.\n",
    "\n",
    "Строка A лексикографически меньше строки B (той же длины), если на первой различающейся позиции в строке A стоит меньший символ, чем в B. Например, строка adbc меньше строки adca, т.к. первые два символа в строках совпадают, а на третьем месте в строке adbc стоит символ b, который меньше символа c, стоящего на третьей позиции в строке adca.\n",
    "\n",
    "Формат ввода  \n",
    "Вводится строка-палиндром, состоящая из маленьких букв латинского алфавита. Длина строки не превосходит 1000.\n",
    "\n",
    "Формат вывода  \n",
    "Выведите лексикографически минимальную строку, не являющуюяся палиндромом, полученную из исходной строки заменой одного символа.\n",
    "\n",
    "Если получить такую строку невозможно - выведите пустую строку."
   ]
  },
  {
   "cell_type": "code",
   "execution_count": null,
   "metadata": {},
   "outputs": [],
   "source": [
    "input_string = list(input())\n",
    "\n",
    "def break_palindrome(input_string):\n",
    "    if set(input_string) == {'a'} and len(input_string) != 1:\n",
    "        input_string[-1] = 'b'\n",
    "        return input_string\n",
    "    for i in range(len(input_string)):\n",
    "        if input_string[i] == 'a':\n",
    "            continue\n",
    "        last_value = input_string[i]\n",
    "        input_string[i] = 'a'\n",
    "        if set(input_string) == {'a'} and len(input_string) != 1:\n",
    "            input_string[i] = last_value\n",
    "            input_string[-1] = 'b'\n",
    "            return input_string\n",
    "        return input_string\n",
    "    return []\n",
    "\n",
    "x = break_palindrome(input_string)\n",
    "\n",
    "if x == x[::-1]:\n",
    "    print('')\n",
    "else:\n",
    "    print(''.join(x))"
   ]
  }
 ],
 "metadata": {
  "language_info": {
   "name": "python"
  },
  "orig_nbformat": 4
 },
 "nbformat": 4,
 "nbformat_minor": 2
}
