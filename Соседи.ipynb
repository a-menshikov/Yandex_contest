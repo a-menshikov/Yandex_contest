{
 "cells": [
  {
   "attachments": {},
   "cell_type": "markdown",
   "metadata": {},
   "source": [
    "Ограничение времени\t1 секунда  \n",
    "Ограничение памяти\t64Mb  \n",
    "\n",
    "Ввод\tстандартный ввод или input.txt  \n",
    "Вывод\tстандартный вывод или output.txt  \n",
    "\n",
    "Дана матрица. Нужно написать функцию, которая для элемента возвращает всех его соседей. Соседним считается элемент, находящийся от текущего на одну ячейку влево, вправо, вверх или вниз. Диагональные элементы соседними не считаются.\n",
    "\n",
    "Формат ввода  \n",
    "В первой строке задано n — количество строк матрицы. Во второй — количество столбцов m. Числа m и n не превосходят 1000. В следующих n строках задана матрица. Элементы матрицы — целые числа, по модулю не превосходящие 1000. В последних двух строках записаны координаты элемента, соседей которого нужно найти. Индексация начинается с нуля.\n",
    "\n",
    "Формат вывода  \n",
    "Напечатайте нужные числа в возрастающем порядке через пробел."
   ]
  },
  {
   "cell_type": "code",
   "execution_count": 25,
   "metadata": {},
   "outputs": [
    {
     "name": "stdout",
     "output_type": "stream",
     "text": [
      "9\n"
     ]
    }
   ],
   "source": [
    "from typing import List, Tuple\n",
    "\n",
    "def get_neighbours(matrix: List[List[int]], row: int, col: int, n: int, m: int) -> List[int]:\n",
    "    neighbours = []\n",
    "    for i in range(row-1, row+2, 2):\n",
    "        if i < 0 or i > n-1:\n",
    "            continue\n",
    "        else:\n",
    "            neighbours.append(matrix[i][col])\n",
    "    for i in range(col-1, col+2, 2):\n",
    "        if i < 0 or i > m-1:\n",
    "            continue\n",
    "        else:\n",
    "            neighbours.append(matrix[row][i])\n",
    "    return sorted(neighbours)\n",
    "\n",
    "def read_input() -> Tuple[List[List[int]], int, int]:\n",
    "    n = int(input())\n",
    "    m = int(input())\n",
    "    matrix = []\n",
    "    for i in range(n):\n",
    "        matrix.append(list(map(int, input().strip().split())))\n",
    "    row = int(input())\n",
    "    col = int(input())\n",
    "    return matrix, row, col, n, m\n",
    "\n",
    "matrix, row, col, n, m = read_input()\n",
    "print(\" \".join(map(str, get_neighbours(matrix, row, col, n, m))))"
   ]
  }
 ],
 "metadata": {
  "kernelspec": {
   "display_name": "Python 3",
   "language": "python",
   "name": "python3"
  },
  "language_info": {
   "codemirror_mode": {
    "name": "ipython",
    "version": 3
   },
   "file_extension": ".py",
   "mimetype": "text/x-python",
   "name": "python",
   "nbconvert_exporter": "python",
   "pygments_lexer": "ipython3",
   "version": "3.10.6"
  },
  "orig_nbformat": 4,
  "vscode": {
   "interpreter": {
    "hash": "916dbcbb3f70747c44a77c7bcd40155683ae19c65e1c03b4aa3499c5328201f1"
   }
  }
 },
 "nbformat": 4,
 "nbformat_minor": 2
}
