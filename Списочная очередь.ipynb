{
 "cells": [
  {
   "attachments": {},
   "cell_type": "markdown",
   "metadata": {},
   "source": [
    "Ограничение времени\t0.3 секунды  \n",
    "Ограничение памяти\t64Mb  \n",
    "\n",
    "Ввод\tстандартный ввод или input.txt  \n",
    "Вывод\tстандартный вывод или output.txt  \n",
    "\n",
    "Любимый вариант очереди Тимофея — очередь, написанная с использованием связного списка. Помогите ему с реализацией. Очередь должна поддерживать выполнение трёх команд:\n",
    "\n",
    "get() — вывести элемент, находящийся в голове очереди, и удалить его. Если очередь пуста, то вывести «error».\n",
    "put(x) — добавить число x в очередь\n",
    "size() — вывести текущий размер очереди\n",
    "\n",
    "Формат ввода  \n",
    "В первой строке записано количество команд n — целое число, не превосходящее 1000. В каждой из следующих n строк записаны команды по одной строке.\n",
    "\n",
    "Формат вывода  \n",
    "Выведите ответ на каждый запрос по одному в строке."
   ]
  },
  {
   "cell_type": "code",
   "execution_count": null,
   "metadata": {},
   "outputs": [],
   "source": [
    "class Node:\n",
    "        def __init__(self, value, next_item=None):\n",
    "            self.value = value\n",
    "            self.next_item = next_item\n",
    "\n",
    "head = None\n",
    "tail = None\n",
    "size = 0\n",
    "\n",
    "def put(x):\n",
    "    global head, size, tail\n",
    "    new_node = Node(value=x, next_item=None)\n",
    "    if not head:\n",
    "        head = tail = new_node\n",
    "    else:\n",
    "        tail.next_item = new_node\n",
    "        tail = new_node\n",
    "    size += 1\n",
    "\n",
    "def get():\n",
    "    global head, size\n",
    "    if size:\n",
    "        print(head.value)\n",
    "        head = head.next_item\n",
    "        size -= 1\n",
    "    else:\n",
    "        print('error')\n",
    "\n",
    "counter_commands = int(input())\n",
    "\n",
    "for i in range(counter_commands):\n",
    "    input_text = input().split()\n",
    "    if input_text[0] == 'get':\n",
    "        get()\n",
    "    elif input_text[0] == 'put':\n",
    "        put(int(input_text[1]))\n",
    "    elif input_text[0] == 'size':\n",
    "        print(size)"
   ]
  }
 ],
 "metadata": {
  "kernelspec": {
   "display_name": "Python 3",
   "language": "python",
   "name": "python3"
  },
  "language_info": {
   "codemirror_mode": {
    "name": "ipython",
    "version": 3
   },
   "file_extension": ".py",
   "mimetype": "text/x-python",
   "name": "python",
   "nbconvert_exporter": "python",
   "pygments_lexer": "ipython3",
   "version": "3.10.6"
  },
  "orig_nbformat": 4,
  "vscode": {
   "interpreter": {
    "hash": "916dbcbb3f70747c44a77c7bcd40155683ae19c65e1c03b4aa3499c5328201f1"
   }
  }
 },
 "nbformat": 4,
 "nbformat_minor": 2
}
