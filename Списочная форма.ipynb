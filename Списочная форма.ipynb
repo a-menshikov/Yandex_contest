{
 "cells": [
  {
   "attachments": {},
   "cell_type": "markdown",
   "metadata": {},
   "source": [
    "Ограничение времени\t1 секунда\n",
    "Ограничение памяти\t64Mb\n",
    "\n",
    "Ввод\tстандартный ввод или input.txt\n",
    "Вывод\tстандартный вывод или output.txt\n",
    "\n",
    "Вася просил Аллу помочь решить задачу. На этот раз по информатике.\n",
    "\n",
    "Для неотрицательного целого числа X списочная форма –— это массив его цифр слева направо. К примеру, для 1231 списочная форма будет [1,2,3,1]. На вход подается количество цифр числа Х, списочная форма неотрицательного числа Х и неотрицательное число K. Число К не превосходят 10000. Длина числа Х не превосходит 1000.\n",
    "\n",
    "Нужно вернуть списочную форму числа X + K.\n",
    "\n",
    "Формат ввода\n",
    "В первой строке — длина списочной формы числа X. На следующей строке — сама списочная форма с цифрами записанными через пробел.\n",
    "\n",
    "В последней строке записано число K, 0 ≤ K ≤ 10000.\n",
    "\n",
    "Формат вывода\n",
    "Выведите списочную форму числа X+K."
   ]
  },
  {
   "cell_type": "code",
   "execution_count": null,
   "metadata": {},
   "outputs": [],
   "source": [
    "from typing import Tuple\n",
    "\n",
    "\n",
    "def read_input() -> Tuple[int, int]:\n",
    "    n = int(input())\n",
    "    number = int(input().replace(' ', ''))\n",
    "    k = int(input())\n",
    "    return number, k\n",
    "\n",
    "number, k = read_input()\n",
    "print(*list(str(k+number)))"
   ]
  }
 ],
 "metadata": {
  "kernelspec": {
   "display_name": "Python 3",
   "language": "python",
   "name": "python3"
  },
  "language_info": {
   "codemirror_mode": {
    "name": "ipython",
    "version": 3
   },
   "file_extension": ".py",
   "mimetype": "text/x-python",
   "name": "python",
   "nbconvert_exporter": "python",
   "pygments_lexer": "ipython3",
   "version": "3.10.6"
  },
  "orig_nbformat": 4,
  "vscode": {
   "interpreter": {
    "hash": "916dbcbb3f70747c44a77c7bcd40155683ae19c65e1c03b4aa3499c5328201f1"
   }
  }
 },
 "nbformat": 4,
 "nbformat_minor": 2
}
