{
 "cells": [
  {
   "attachments": {},
   "cell_type": "markdown",
   "metadata": {},
   "source": [
    "Средний элемент\n",
    "\n",
    "Рассмотрим три числа. Упорядочим их по возрастанию.  \n",
    "Какое число будет стоять между двумя другими?\n",
    "\n",
    "Формат ввода  \n",
    "В единственной строке записаны три целых числа, числа разделены одиночными пробелами.\n",
    "\n",
    "Формат вывода  \n",
    "Выведите число, которое будет стоять между двумя другими после упорядочивания."
   ]
  },
  {
   "cell_type": "code",
   "execution_count": null,
   "metadata": {},
   "outputs": [],
   "source": [
    "A, B, C = map(int, input().split())\n",
    "print(max(min(A,B), min(B,C), min(A,C)))"
   ]
  }
 ],
 "metadata": {
  "language_info": {
   "name": "python"
  },
  "orig_nbformat": 4
 },
 "nbformat": 4,
 "nbformat_minor": 2
}
