{
 "cells": [
  {
   "attachments": {},
   "cell_type": "markdown",
   "metadata": {},
   "source": [
    "Ограничение времени 1.5 секунд  \n",
    "Ограничение памяти 64Mb  \n",
    "\n",
    "Ввод стандартный ввод или input.txt  \n",
    "Вывод стандартный вывод или output.txt  \n",
    "\n",
    "Реализуйте класс StackMaxEffective, поддерживающий операцию определения максимума среди элементов в стеке. Сложность операции должна быть O(1). Для пустого стека операция должна возвращать None. При этом push(x) и pop() также должны выполняться за константное время.\n",
    "\n",
    "Формат ввода  \n",
    "В первой строке записано одно число — количество команд, оно не превосходит 100000. Далее идут команды по одной в строке. Команды могут быть следующих видов:\n",
    "\n",
    "push(x) — добавить число x в стек;\n",
    "pop() — удалить число с вершины стека;\n",
    "get_max() — напечатать максимальное число в стеке;\n",
    "Если стек пуст, при вызове команды get_max нужно напечатать «None», для команды pop — «error».\n",
    "\n",
    "Формат вывода  \n",
    "Для каждой команды get_max() напечатайте результат её выполнения. Если стек пустой, для команды get_max() напечатайте «None». Если происходит удаление из пустого стека — напечатайте «error»."
   ]
  },
  {
   "cell_type": "code",
   "execution_count": null,
   "metadata": {},
   "outputs": [],
   "source": [
    "class StackMax:\n",
    "    def __init__(self):\n",
    "        self.items = []\n",
    "        self.items_max = []\n",
    "\n",
    "    def size(self):\n",
    "        return len(self.items)\n",
    "\n",
    "    def push(self, item):\n",
    "        if self.size():\n",
    "            self.items.append(item)\n",
    "            if item >= self.items_max[-1]:\n",
    "                self.items_max.append(item)\n",
    "        else:\n",
    "            self.items.append(item)\n",
    "            self.items_max.append(item)\n",
    "\n",
    "    def pop(self):  \n",
    "        if self.size():\n",
    "            out = self.items.pop()\n",
    "            if self.items_max[-1] == out:\n",
    "                self.items_max.pop()\n",
    "        else:\n",
    "            print('error')\n",
    "\n",
    "    def get_max(self):\n",
    "        if self.size():\n",
    "            print(self.items_max[-1])\n",
    "        else:\n",
    "            print('None')\n",
    "\n",
    "x = int(input())\n",
    "stack = StackMax()\n",
    "\n",
    "for i in range(x):\n",
    "    input_text = input().split()\n",
    "    if input_text[0] == 'get_max':\n",
    "        stack.get_max()\n",
    "    elif input_text[0] == 'pop':\n",
    "        stack.pop()\n",
    "    elif input_text[0] == 'push':\n",
    "        stack.push(int(input_text[1]))"
   ]
  }
 ],
 "metadata": {
  "kernelspec": {
   "display_name": "Python 3",
   "language": "python",
   "name": "python3"
  },
  "language_info": {
   "codemirror_mode": {
    "name": "ipython",
    "version": 3
   },
   "file_extension": ".py",
   "mimetype": "text/x-python",
   "name": "python",
   "nbconvert_exporter": "python",
   "pygments_lexer": "ipython3",
   "version": "3.10.6"
  },
  "orig_nbformat": 4,
  "vscode": {
   "interpreter": {
    "hash": "916dbcbb3f70747c44a77c7bcd40155683ae19c65e1c03b4aa3499c5328201f1"
   }
  }
 },
 "nbformat": 4,
 "nbformat_minor": 2
}
