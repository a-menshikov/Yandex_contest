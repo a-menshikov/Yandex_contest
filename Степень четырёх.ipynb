{
 "cells": [
  {
   "attachments": {},
   "cell_type": "markdown",
   "metadata": {},
   "source": [
    "Ограничение времени\t1 секунда\n",
    "Ограничение памяти\t64Mb\n",
    "\n",
    "Ввод\tстандартный ввод или input.txt\n",
    "Вывод\tстандартный вывод или output.txt\n",
    "\n",
    "Напишите программу, которая определяет, будет ли положительное целое число степенью четвёрки.\n",
    "\n",
    "Подсказка: степенью четвёрки будут все числа вида 4n, где n – целое неотрицательное число.\n",
    "\n",
    "Формат ввода\n",
    "На вход подаётся целое число в диапазоне от 1 до 10000.\n",
    "\n",
    "Формат вывода\n",
    "Выведите «True», если число является степенью четырёх, «False» –— в обратном случае."
   ]
  },
  {
   "cell_type": "code",
   "execution_count": 6,
   "metadata": {},
   "outputs": [
    {
     "name": "stdout",
     "output_type": "stream",
     "text": [
      "False\n"
     ]
    }
   ],
   "source": [
    "etalon = [4**i for i in range(7)]\n",
    "\n",
    "def is_power_of_four(number: int) -> bool:\n",
    "    if number in etalon:\n",
    "        return True\n",
    "    return False\n",
    "\n",
    "print(is_power_of_four(int(input())))"
   ]
  }
 ],
 "metadata": {
  "kernelspec": {
   "display_name": "Python 3",
   "language": "python",
   "name": "python3"
  },
  "language_info": {
   "codemirror_mode": {
    "name": "ipython",
    "version": 3
   },
   "file_extension": ".py",
   "mimetype": "text/x-python",
   "name": "python",
   "nbconvert_exporter": "python",
   "pygments_lexer": "ipython3",
   "version": "3.10.6"
  },
  "orig_nbformat": 4,
  "vscode": {
   "interpreter": {
    "hash": "916dbcbb3f70747c44a77c7bcd40155683ae19c65e1c03b4aa3499c5328201f1"
   }
  }
 },
 "nbformat": 4,
 "nbformat_minor": 2
}
