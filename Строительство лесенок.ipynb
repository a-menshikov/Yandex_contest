{
 "cells": [
  {
   "attachments": {},
   "cell_type": "markdown",
   "metadata": {},
   "source": [
    "Строительство лесенок\n",
    "\n",
    "Ограничение времени\t1 секунда  \n",
    "Ограничение памяти\t64Mb  \n",
    "\n",
    "Ввод\tстандартный ввод или input.txt  \n",
    "Вывод\tстандартный вывод или output.txt  \n",
    "\n",
    "Вася занимается строительством лесенок из блоков. Лесенка состоит из ступенек, при этом i-ая ступенька должна состоять ровно из i блоков.\n",
    "\n",
    "По заданному числу блоков n определите максимальное количество ступенек в лесенке, которую можно построить из этих блоков.\n",
    "\n",
    "Формат ввода  \n",
    "Ввводится одно число n (1 ≤ n ≤ 231 - 1).\n",
    "\n",
    "Формат вывода  \n",
    "Выведите одно число — количество ступенек в лесенке."
   ]
  },
  {
   "cell_type": "code",
   "execution_count": null,
   "metadata": {},
   "outputs": [],
   "source": [
    "n = int(input())\n",
    "\n",
    "next_step = 1\n",
    "\n",
    "steps = 0\n",
    "\n",
    "while next_step <= n:\n",
    "    n -= next_step\n",
    "    steps += 1\n",
    "    next_step += 1\n",
    "\n",
    "print(steps)"
   ]
  }
 ],
 "metadata": {
  "kernelspec": {
   "display_name": "Python 3",
   "language": "python",
   "name": "python3"
  },
  "language_info": {
   "codemirror_mode": {
    "name": "ipython",
    "version": 3
   },
   "file_extension": ".py",
   "mimetype": "text/x-python",
   "name": "python",
   "nbconvert_exporter": "python",
   "pygments_lexer": "ipython3",
   "version": "3.10.6"
  },
  "orig_nbformat": 4
 },
 "nbformat": 4,
 "nbformat_minor": 2
}
