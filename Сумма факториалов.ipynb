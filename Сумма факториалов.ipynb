{
 "cells": [
  {
   "attachments": {},
   "cell_type": "markdown",
   "metadata": {},
   "source": [
    "Сумма факториалов  \n",
    "\n",
    "Ограничение времени\t1 секунда  \n",
    "Ограничение памяти\t64Mb  \n",
    "Ввод\tстандартный ввод или input.txt  \n",
    "Вывод\tстандартный вывод или output.txt  \n",
    "\n",
    "По данному натуральном n вычислите сумму . В решении этой задачи можно использовать только один цикл.\n",
    "\n",
    "Формат ввода  \n",
    "Вводится натуральное число n.\n",
    "\n",
    "Формат вывода  \n",
    "Выведите ответ на задачу."
   ]
  },
  {
   "cell_type": "code",
   "execution_count": null,
   "metadata": {},
   "outputs": [],
   "source": [
    "x = int(input())\n",
    "fact = 1\n",
    "sum_f = 0\n",
    "for i in range(1,x+1):\n",
    "    fact *= i\n",
    "    sum_f += fact\n",
    "print(sum_f)"
   ]
  }
 ],
 "metadata": {
  "language_info": {
   "name": "python"
  },
  "orig_nbformat": 4
 },
 "nbformat": 4,
 "nbformat_minor": 2
}
