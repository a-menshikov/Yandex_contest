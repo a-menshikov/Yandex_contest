{
 "cells": [
  {
   "attachments": {},
   "cell_type": "markdown",
   "metadata": {},
   "source": [
    "Теорема Лагранжа\n",
    "\n",
    "Теорема Лагранжа утверждает, что любое натуральное число можно представить в виде суммы четырех точных квадратов. По данному числу n найдите такое представление: напечатайте от 1 до 4 натуральных чисел, квадраты которых дают в сумме данное число.\n",
    "\n",
    "Формат ввода  \n",
    "Программа получает на вход одно натуральное число n < 10000.\n",
    "\n",
    "Формат вывода  \n",
    "Программа должна вывести от 1 до 4 натуральных чисел, квадраты которых дают в сумме данное число."
   ]
  },
  {
   "cell_type": "code",
   "execution_count": null,
   "metadata": {},
   "outputs": [],
   "source": [
    "import math\n",
    "\n",
    "x = int(input())\n",
    "\n",
    "for i in range(int(math.sqrt(x)), 0, -1):\n",
    "    result = []\n",
    "    y = x\n",
    "    f_sq = i\n",
    "    result.append(f_sq)\n",
    "    y -= f_sq**2\n",
    "    while y > 0:\n",
    "        if len(result) == 4:\n",
    "            break\n",
    "        sq = int(math.sqrt(y))\n",
    "        result.append(sq)\n",
    "        y -= sq**2\n",
    "    if y > 0:\n",
    "        continue\n",
    "    else:\n",
    "        break\n",
    "\n",
    "assert y == 0\n",
    "    \n",
    "print(' '.join([str(i) for i in result]))"
   ]
  }
 ],
 "metadata": {
  "language_info": {
   "name": "python"
  },
  "orig_nbformat": 4
 },
 "nbformat": 4,
 "nbformat_minor": 2
}
