{
 "cells": [
  {
   "attachments": {},
   "cell_type": "markdown",
   "metadata": {},
   "source": [
    "Треугольники\n",
    "\n",
    "Дан набор из N отрезков различной длины. Сколькими способами можно выбрать из этих отрезков три, из которых можно составить (невырожденный) треугольник?\n",
    "\n",
    "Формат ввода  \n",
    "Сначала вводится количество отрезков, затем длины этих отрезков (еще N чисел).\n",
    "\n",
    "Формат вывода  \n",
    "Программа должна вывести одно число - искомое количество способов. Количество отрезков - не менее 3 и не более 20. Длина каждого отрезка - натуральное число, не превосходящее 1000. Все отрезки имеют разную длину."
   ]
  },
  {
   "cell_type": "code",
   "execution_count": null,
   "metadata": {},
   "outputs": [],
   "source": [
    "import itertools\n",
    "\n",
    "n = int(input())\n",
    "x = map(int, input().split())\n",
    "result = 0\n",
    "\n",
    "\n",
    "for a, b, c in itertools.combinations(x, 3):\n",
    "    if min(a,b,c) + max(min(a,b), min(b,c), min(a,c)) > max(a,b,c):\n",
    "        result += 1\n",
    "\n",
    "print(result)"
   ]
  }
 ],
 "metadata": {
  "language_info": {
   "name": "python"
  },
  "orig_nbformat": 4
 },
 "nbformat": 4,
 "nbformat_minor": 2
}
