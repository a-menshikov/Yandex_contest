{
 "cells": [
  {
   "attachments": {},
   "cell_type": "markdown",
   "metadata": {},
   "source": [
    "Ограничение времени\t1 секунда\n",
    "Ограничение памяти\t64Mb\n",
    "Ввод\tстандартный ввод или input.txt\n",
    "Вывод\tстандартный вывод или output.txt\n",
    "Решите в целых числах уравнение:\n",
    "\n",
    "sqtr(ax+b) = c\n",
    "\n",
    "a, b, c – данные целые числа: найдите все решения или сообщите, что решений в целых числах нет.\n",
    "\n",
    "Формат ввода\n",
    "Вводятся три числа a, b и c по одному в строке.\n",
    "\n",
    "Формат вывода\n",
    "Программа должна вывести все решения уравнения в порядке возрастания, либо NO SOLUTION (заглавными буквами), если решений нет. Если решений бесконечно много, вывести MANY SOLUTIONS."
   ]
  },
  {
   "cell_type": "code",
   "execution_count": 21,
   "metadata": {},
   "outputs": [
    {
     "name": "stdout",
     "output_type": "stream",
     "text": [
      "0\n"
     ]
    }
   ],
   "source": [
    "a, b, c = int(input()), int(input()), int(input())\n",
    "\n",
    "if c < 0:\n",
    "    print(\"NO SOLUTION\")\n",
    "elif (a + b) == c * c and (2 * a + b) == c * c:\n",
    "    print(\"MANY SOLUTIONS\")\n",
    "else:\n",
    "    if a != 0 and (c * c - b) / a == (c * c - b) // a:\n",
    "        print((c * c - b) // a)\n",
    "    else:\n",
    "        print(\"NO SOLUTION\")"
   ]
  }
 ],
 "metadata": {
  "kernelspec": {
   "display_name": "Python 3",
   "language": "python",
   "name": "python3"
  },
  "language_info": {
   "codemirror_mode": {
    "name": "ipython",
    "version": 3
   },
   "file_extension": ".py",
   "mimetype": "text/x-python",
   "name": "python",
   "nbconvert_exporter": "python",
   "pygments_lexer": "ipython3",
   "version": "3.10.6"
  },
  "orig_nbformat": 4,
  "vscode": {
   "interpreter": {
    "hash": "916dbcbb3f70747c44a77c7bcd40155683ae19c65e1c03b4aa3499c5328201f1"
   }
  }
 },
 "nbformat": 4,
 "nbformat_minor": 2
}
