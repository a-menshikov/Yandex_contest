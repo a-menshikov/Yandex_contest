{
 "cells": [
  {
   "attachments": {},
   "cell_type": "markdown",
   "metadata": {},
   "source": [
    "Ограничение времени\t0.2 секунды\n",
    "Ограничение памяти 64Mb\n",
    "\n",
    "Ввод стандартный ввод или input.txt\n",
    "Вывод стандартный вывод или output.txt\n",
    "\n",
    "Основная теорема арифметики говорит: любое число раскладывается на произведение простых множителей единственным образом, с точностью до их перестановки.\n",
    "\n",
    "Разложение числа на простые множители называется факторизацией числа.\n",
    "\n",
    "Напишите программу, которая производит факторизацию переданного числа.\n",
    "\n",
    "Формат ввода\n",
    "В единственной строке дано число n (2 ≤ n ≤ 10**9), которое нужно факторизовать.\n",
    "\n",
    "Формат вывода\n",
    "Выведите в порядке неубывания простые множители, на которые раскладывается число n."
   ]
  },
  {
   "cell_type": "code",
   "execution_count": null,
   "metadata": {},
   "outputs": [],
   "source": [
    "from typing import List\n",
    "\n",
    "\n",
    "def factorize(n: int) -> List[int]:\n",
    "    result = []\n",
    "\n",
    "    for i in range(2, int(n**0.5)+1):\n",
    "        while not n % i:\n",
    "            result.append(i)\n",
    "            n = n // i\n",
    "            if n == 1:\n",
    "                break\n",
    "\n",
    "    if n > 1:\n",
    "        result.append(n)\n",
    "    return result\n",
    "\n",
    "result = factorize(int(input()))\n",
    "print(' '.join(map(str, result)))"
   ]
  }
 ],
 "metadata": {
  "kernelspec": {
   "display_name": "Python 3",
   "language": "python",
   "name": "python3"
  },
  "language_info": {
   "codemirror_mode": {
    "name": "ipython",
    "version": 3
   },
   "file_extension": ".py",
   "mimetype": "text/x-python",
   "name": "python",
   "nbconvert_exporter": "python",
   "pygments_lexer": "ipython3",
   "version": "3.10.6"
  },
  "orig_nbformat": 4,
  "vscode": {
   "interpreter": {
    "hash": "916dbcbb3f70747c44a77c7bcd40155683ae19c65e1c03b4aa3499c5328201f1"
   }
  }
 },
 "nbformat": 4,
 "nbformat_minor": 2
}
