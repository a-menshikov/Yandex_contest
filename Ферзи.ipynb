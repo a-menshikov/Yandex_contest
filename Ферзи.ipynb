{
 "cells": [
  {
   "attachments": {},
   "cell_type": "markdown",
   "metadata": {},
   "source": [
    "Известно, что на доске 8×8 можно расставить 8 ферзей так, чтобы они не били друг друга. Вам дана расстановка 8 ферзей на доске, определите, есть ли среди них пара бьющих друг друга.\n",
    "\n",
    "Формат ввода  \n",
    "Программа получает на вход восемь пар чисел, каждое число от 1 до 8 - координаты 8 ферзей.\n",
    "\n",
    "Формат вывода  \n",
    "Если ферзи не бьют друг друга, выведите слово NO, иначе выведите YES."
   ]
  },
  {
   "cell_type": "code",
   "execution_count": null,
   "metadata": {},
   "outputs": [],
   "source": [
    "n = 8\n",
    "lines = []\n",
    "columns = []\n",
    "for i in range(n):\n",
    "    x, y = [int(s) for s in input().split()]\n",
    "    columns.append(y)\n",
    "    lines.append(x)\n",
    "\n",
    "result = True\n",
    "for i in range(n):\n",
    "    for j in range(i + 1, n):\n",
    "        if lines[i] == lines[j] or columns[i] == columns[j] or abs(lines[i] - lines[j]) == abs(columns[i] - columns[j]):\n",
    "            result = False\n",
    "\n",
    "if result:\n",
    "    print('NO')\n",
    "else:\n",
    "    print('YES')"
   ]
  }
 ],
 "metadata": {
  "language_info": {
   "name": "python"
  },
  "orig_nbformat": 4
 },
 "nbformat": 4,
 "nbformat_minor": 2
}
