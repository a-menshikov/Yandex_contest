{
 "cells": [
  {
   "attachments": {},
   "cell_type": "markdown",
   "metadata": {},
   "source": [
    "Ограничение времени 0.7 секунд  \n",
    "Ограничение памяти 64Mb  \n",
    "\n",
    "Ввод стандартный ввод или input.txt  \n",
    "Вывод стандартный вывод или output.txt\n",
    "\n",
    "У Тимофея было очень много стажёров, целых N (0 ≤ N ≤ 106) человек. Каждый стажёр хотел быть лучше своих предшественников, поэтому i-й стажёр делал столько коммитов, сколько делали два предыдущих стажёра в сумме. Два первых стажёра были менее инициативными — они сделали по одному коммиту.\n",
    "\n",
    "Пусть Fi —– число коммитов, сделанных i-м стажёром (стажёры нумеруются с нуля). Первые два стажёра сделали по одному коммиту: F0=F1=1. Для всех i≥ 2 выполнено Fi=Fi−1+Fi−2.\n",
    "\n",
    "Определите, сколько кода напишет следующий стажёр –— найдите последние k цифр числа Fn.\n",
    "\n",
    "Формат ввода  \n",
    "В первой строке записаны через пробел два целых числа n (0 ≤ n ≤ 106) и k (1 ≤ k ≤ 8).\n",
    "\n",
    "Формат вывода  \n",
    "Выведите единственное число – последние k цифр числа Fn.\n",
    "\n",
    "Если в искомом числе меньше k цифр, то выведите само число без ведущих нулей."
   ]
  },
  {
   "cell_type": "code",
   "execution_count": null,
   "metadata": {},
   "outputs": [],
   "source": [
    "def fibonacci(number, K):\n",
    "    num_1, num_2 = 1, 1\n",
    "    if number <= 1:\n",
    "        return 1\n",
    "    else:\n",
    "        for _ in range(number - 1):\n",
    "            num_1, num_2 = num_2, (num_2 + num_1) % 10 ** K\n",
    "        return num_2\n",
    "\n",
    "x, K = map(int, input().split())\n",
    "print(fibonacci(x, K))"
   ]
  }
 ],
 "metadata": {
  "kernelspec": {
   "display_name": "Python 3",
   "language": "python",
   "name": "python3"
  },
  "language_info": {
   "codemirror_mode": {
    "name": "ipython",
    "version": 3
   },
   "file_extension": ".py",
   "mimetype": "text/x-python",
   "name": "python",
   "nbconvert_exporter": "python",
   "pygments_lexer": "ipython3",
   "version": "3.10.6"
  },
  "orig_nbformat": 4,
  "vscode": {
   "interpreter": {
    "hash": "916dbcbb3f70747c44a77c7bcd40155683ae19c65e1c03b4aa3499c5328201f1"
   }
  }
 },
 "nbformat": 4,
 "nbformat_minor": 2
}
