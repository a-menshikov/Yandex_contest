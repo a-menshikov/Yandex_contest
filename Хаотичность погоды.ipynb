{
 "cells": [
  {
   "attachments": {},
   "cell_type": "markdown",
   "metadata": {},
   "source": [
    "Ограничение времени 0.2 секунды  \n",
    "Ограничение памяти\t64Mb  \n",
    "\n",
    "Ввод стандартный ввод или input.txt  \n",
    "Вывод\tстандартный вывод или output.txt  \n",
    "\n",
    "Метеорологическая служба вашего города решила исследовать погоду новым способом.\n",
    "\n",
    "Под температурой воздуха в конкретный день будем понимать максимальную температуру в этот день.\n",
    "Под хаотичностью погоды за n дней служба понимает количество дней, в которые температура строго больше, чем в день до (если такой существует) и в день после текущего (если такой существует). Например, если за 5 дней максимальная температура воздуха составляла [1, 2, 5, 4, 8] градусов, то хаотичность за этот период равна 2: в 3-й и 5-й дни выполнялись описанные условия.\n",
    "Определите по ежедневным показаниям температуры хаотичность погоды за этот период.\n",
    "\n",
    "Заметим, что если число показаний n=1, то единственный день будет хаотичным.\n",
    "\n",
    "Формат ввода  \n",
    "В первой строке дано число n –— длина периода измерений в днях, 1 ≤ n≤ 105. Во второй строке даны n целых чисел –— значения температуры в каждый из n дней. Значения температуры не превосходят 273 по модулю.\n",
    "\n",
    "Формат вывода  \n",
    "Выведите единственное число — хаотичность за данный период."
   ]
  },
  {
   "cell_type": "code",
   "execution_count": 8,
   "metadata": {},
   "outputs": [
    {
     "name": "stdout",
     "output_type": "stream",
     "text": [
      "0\n"
     ]
    }
   ],
   "source": [
    "n = int(input())\n",
    "values = list(map(int, input().split()))\n",
    "counter_ans = 0\n",
    "\n",
    "if len(values) == 1:\n",
    "    print(1)\n",
    "else:\n",
    "    prev_check = True\n",
    "    for i in range(n-1):        \n",
    "        post_check = values[i] > values[i+1]\n",
    "        if all((prev_check, post_check)):\n",
    "            counter_ans += 1\n",
    "        prev_check = not (post_check or values[i] == values[i+1])\n",
    "    if prev_check:\n",
    "        counter_ans += 1\n",
    "    print(counter_ans)"
   ]
  }
 ],
 "metadata": {
  "kernelspec": {
   "display_name": "Python 3",
   "language": "python",
   "name": "python3"
  },
  "language_info": {
   "codemirror_mode": {
    "name": "ipython",
    "version": 3
   },
   "file_extension": ".py",
   "mimetype": "text/x-python",
   "name": "python",
   "nbconvert_exporter": "python",
   "pygments_lexer": "ipython3",
   "version": "3.10.6"
  },
  "orig_nbformat": 4,
  "vscode": {
   "interpreter": {
    "hash": "916dbcbb3f70747c44a77c7bcd40155683ae19c65e1c03b4aa3499c5328201f1"
   }
  }
 },
 "nbformat": 4,
 "nbformat_minor": 2
}
