{
 "cells": [
  {
   "attachments": {},
   "cell_type": "markdown",
   "metadata": {},
   "source": [
    "Ограничение времени\t1 секунда  \n",
    "Ограничение памяти\t64Mb  \n",
    "\n",
    "Ввод\tстандартный ввод или input.txt  \n",
    "Вывод\tстандартный вывод или output.txt  \n",
    "\n",
    "Представьте себе онлайн-игру для поездки в метро: игрок нажимает на кнопку, и на экране появляются три случайных числа. Если все три числа оказываются одной чётности, игрок выигрывает.\n",
    "\n",
    "Напишите программу, которая по трём числам определяет, выиграл игрок или нет.\n",
    "\n",
    "Формат ввода  \n",
    "В первой строке записаны три случайных целых числа a, b и c. Числа не превосходят 109 по модулю.\n",
    "\n",
    "Формат вывода  \n",
    "Выведите «WIN», если игрок выиграл, и «FAIL» в противном случае."
   ]
  },
  {
   "cell_type": "code",
   "execution_count": 15,
   "metadata": {},
   "outputs": [
    {
     "name": "stdout",
     "output_type": "stream",
     "text": [
      "FAIL\n"
     ]
    }
   ],
   "source": [
    "def check_parity(a: int, b: int, c: int) -> bool:\n",
    "    if all((a%2, b%2, c%2)):\n",
    "        return True\n",
    "    if not any((a%2, b%2, c%2)):\n",
    "        return True\n",
    "    return False\n",
    "    \n",
    "def print_result(result: bool) -> None:\n",
    "    if result:\n",
    "        print(\"WIN\")\n",
    "    else:\n",
    "        print(\"FAIL\")\n",
    "\n",
    "a, b, c = map(int, input().strip().split())\n",
    "print_result(check_parity(a, b, c))"
   ]
  }
 ],
 "metadata": {
  "kernelspec": {
   "display_name": "Python 3",
   "language": "python",
   "name": "python3"
  },
  "language_info": {
   "codemirror_mode": {
    "name": "ipython",
    "version": 3
   },
   "file_extension": ".py",
   "mimetype": "text/x-python",
   "name": "python",
   "nbconvert_exporter": "python",
   "pygments_lexer": "ipython3",
   "version": "3.10.6"
  },
  "orig_nbformat": 4,
  "vscode": {
   "interpreter": {
    "hash": "916dbcbb3f70747c44a77c7bcd40155683ae19c65e1c03b4aa3499c5328201f1"
   }
  }
 },
 "nbformat": 4,
 "nbformat_minor": 2
}
